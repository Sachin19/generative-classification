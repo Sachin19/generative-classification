{
 "cells": [
  {
   "cell_type": "code",
   "execution_count": 1,
   "metadata": {},
   "outputs": [],
   "source": [
    "import torch\n",
    "device = \"cpu\"\n",
    "if torch.cuda.is_available():\n",
    "    device = \"cuda\"\n",
    "\n",
    "from transformers import AutoTokenizer, AutoModelForCausalLM, DataCollatorWithPadding"
   ]
  },
  {
   "cell_type": "code",
   "execution_count": 2,
   "metadata": {},
   "outputs": [
    {
     "data": {
      "text/plain": [
       "'2.14.4'"
      ]
     },
     "execution_count": 2,
     "metadata": {},
     "output_type": "execute_result"
    }
   ],
   "source": [
    "import datasets\n",
    "datasets.__version__    "
   ]
  },
  {
   "cell_type": "code",
   "execution_count": 3,
   "metadata": {},
   "outputs": [],
   "source": [
    "from datasets import load_dataset\n",
    "raw_dataset = load_dataset(\"glue\", \"sst2\", split=\"validation\", cache_dir=\"datasets\")\n",
    "# raw_dataset = load_dataset(\"tasksource/subjectivity\", split=\"test\", cache_dir=\"datasets\")\n",
    "# raw_dataset = load_dataset(\"ag_news\", split=\"test\", cache_dir=\"datasets\")\n"
   ]
  },
  {
   "cell_type": "code",
   "execution_count": 4,
   "metadata": {},
   "outputs": [
    {
     "data": {
      "text/plain": [
       "{'sentence': \"it 's a charming and often affecting journey . \",\n",
       " 'label': 1,\n",
       " 'idx': 0}"
      ]
     },
     "execution_count": 4,
     "metadata": {},
     "output_type": "execute_result"
    }
   ],
   "source": [
    "raw_dataset[0]"
   ]
  },
  {
   "cell_type": "code",
   "execution_count": 7,
   "metadata": {},
   "outputs": [],
   "source": [
    "# test0=\"/projects/tir5/users/sachink/embed-style-transfer/data/toxicity-jigsaw/test_0.jsonl\"\n",
    "# test1=\"/projects/tir5/users/sachink/embed-style-transfer/data/toxicity-jigsaw/test_1.jsonl\"\n",
    "# test=\"/projects/tir5/users/sachink/embed-style-transfer/data/toxicity-jigsaw/test.jsonl\"\n",
    "\n",
    "# import json\n",
    "# with open(test, \"w\") as fout:\n",
    "#     with open(test0) as f:\n",
    "#         for line in f:\n",
    "#             item = json.loads(line)\n",
    "#             item['label'] = 0\n",
    "#             fout.write(json.dumps(item)+\"\\n\")\n",
    "    \n",
    "#     with open(test1) as f:\n",
    "#         for line in f:\n",
    "#             item = json.loads(line)\n",
    "#             item['label'] = 1\n",
    "#             fout.write(json.dumps(item)+\"\\n\")\n",
    "\n",
    "            \n"
   ]
  },
  {
   "cell_type": "code",
   "execution_count": 14,
   "metadata": {},
   "outputs": [],
   "source": [
    "# from dataclasses import dataclass\n",
    "# from transformers.tokenization_utils_base import PreTrainedTokenizerBase\n",
    "\n",
    "# from typing import Any, Callable, Dict, List, NewType, Optional, Tuple, Union\n",
    "\n",
    "# from transformers.utils import PaddingStrategy\n",
    "\n",
    "# @dataclass\n",
    "# class DataCollatorForGenerativeClassification:\n",
    "#     \"\"\"\n",
    "#     Data collator that will dynamically pad the inputs received.\n",
    "\n",
    "#     Args:\n",
    "#         tokenizer ([`PreTrainedTokenizer`] or [`PreTrainedTokenizerFast`]):\n",
    "#             The tokenizer used for encoding the data.\n",
    "#         padding (`bool`, `str` or [`~utils.PaddingStrategy`], *optional*, defaults to `True`):\n",
    "#             Select a strategy to pad the returned sequences (according to the model's padding side and padding index)\n",
    "#             among:\n",
    "\n",
    "#             - `True` or `'longest'` (default): Pad to the longest sequence in the batch (or no padding if only a single\n",
    "#               sequence is provided).\n",
    "#             - `'max_length'`: Pad to a maximum length specified with the argument `max_length` or to the maximum\n",
    "#               acceptable input length for the model if that argument is not provided.\n",
    "#             - `False` or `'do_not_pad'`: No padding (i.e., can output a batch with sequences of different lengths).\n",
    "#         max_length (`int`, *optional*):\n",
    "#             Maximum length of the returned list and optionally padding length (see above).\n",
    "#         pad_to_multiple_of (`int`, *optional*):\n",
    "#             If set will pad the sequence to a multiple of the provided value.\n",
    "\n",
    "#             This is especially useful to enable the use of Tensor Cores on NVIDIA hardware with compute capability >=\n",
    "#             7.5 (Volta).\n",
    "#         return_tensors (`str`):\n",
    "#             The type of Tensor to return. Allowable values are \"np\", \"pt\" and \"tf\".\n",
    "#     \"\"\"\n",
    "\n",
    "#     tokenizer: PreTrainedTokenizerBase\n",
    "#     label_features = None\n",
    "#     padding: Union[bool, str, PaddingStrategy] = True\n",
    "#     max_length: Optional[int] = None\n",
    "#     pad_to_multiple_of: Optional[int] = None\n",
    "#     return_tensors: str = \"pt\"\n",
    "\n",
    "\n",
    "#     def __call__(self, features):\n",
    "#         new_features = {}\n",
    "#         # for key in features:\n",
    "#         #     if key not in ['input_ids', 'attention_mask']:\n",
    "#         #         pass\n",
    "        \n",
    "#         batch = self.tokenizer.pad(\n",
    "#             features,\n",
    "#             padding=self.padding,\n",
    "#             max_length=self.max_length,\n",
    "#             pad_to_multiple_of=self.pad_to_multiple_of,\n",
    "#             return_tensors=self.return_tensors,\n",
    "#         )\n",
    "\n",
    "#         if \"label\" in batch:\n",
    "#             batch[\"labels\"] = batch[\"label\"]\n",
    "#             del batch[\"label\"]\n",
    "#         if \"label_ids\" in batch:\n",
    "#             batch[\"labels\"] = batch[\"label_ids\"]\n",
    "#             del batch[\"label_ids\"]\n",
    "#         return batch"
   ]
  },
  {
   "cell_type": "code",
   "execution_count": 5,
   "metadata": {},
   "outputs": [
    {
     "data": {
      "text/plain": [
       "'<|endoftext|>'"
      ]
     },
     "execution_count": 5,
     "metadata": {},
     "output_type": "execute_result"
    }
   ],
   "source": [
    "modelname = \"gpt2-large\"\n",
    "tokenizer = AutoTokenizer.from_pretrained(modelname)\n",
    "tokenizer.bos_token"
   ]
  },
  {
   "cell_type": "code",
   "execution_count": 6,
   "metadata": {},
   "outputs": [],
   "source": [
    "from transformers import AutoModelForCausalLM\n",
    "model = AutoModelForCausalLM.from_pretrained(modelname)\n",
    "# tokenizer = LlamaTokenizer.from_pretrained(\"/projects/tir6/general/sachink/personalized-LM/2023/llama/hf_model-7B\")\n",
    "# model_8bit = AutoModelForSeq2SeqLM.from_pretrained(modelname, device_map=\"auto\", load_in_4bit=True)"
   ]
  },
  {
   "cell_type": "code",
   "execution_count": 14,
   "metadata": {},
   "outputs": [
    {
     "name": "stdout",
     "output_type": "stream",
     "text": [
      "[0.75458716 0.78211009 0.78440367 0.80275229 0.80504587 0.80275229\n",
      " 0.80733945 0.80963303 0.8016055  0.80848624] [0. 0. 0. 0. 0. 0. 0. 0. 0. 0.]\n"
     ]
    },
    {
     "data": {
      "text/plain": [
       "<matplotlib.legend.Legend at 0x7f86a96837f0>"
      ]
     },
     "execution_count": 14,
     "metadata": {},
     "output_type": "execute_result"
    },
    {
     "data": {
      "image/png": "[encoded data removed]",
      "text/plain": [
       "<Figure size 640x480 with 1 Axes>"
      ]
     },
     "metadata": {},
     "output_type": "display_data"
    }
   ],
   "source": [
    "import json\n",
    "import numpy as np\n",
    "with open(\"results/main/glue-sst2/gpt2-results.txt\") as f:\n",
    "    y = []\n",
    "    x = None\n",
    "    c = 0\n",
    "    for line in f:\n",
    "        items = json.loads(line)\n",
    "        if x is None:\n",
    "            x = items['k']\n",
    "        y.append(items['accuracy'])\n",
    "    ymean = np.mean(y, axis=0)\n",
    "    ystd = np.std(y, axis=0)\n",
    "    print(ymean, ystd)\n",
    "\n",
    "from matplotlib import pyplot as plt\n",
    "plt.errorbar(x, ymean, ystd, color=\"red\", label=\"logsumexp\")\n",
    "plt.errorbar(x, ymean-0.1, ystd, color=\"blue\", label=\"average\")\n",
    "plt.legend(loc=\"best\")"
   ]
  },
  {
   "cell_type": "code",
   "execution_count": null,
   "metadata": {},
   "outputs": [
    {
     "name": "stdout",
     "output_type": "stream",
     "text": [
      "/projects/tir1/users/sachink/data/anaconda3/envs/2022/lib/python3.9/site-packages\n"
     ]
    }
   ],
   "source": [
    "from distutils.sysconfig import get_python_lib\n",
    "print(get_python_lib())"
   ]
  },
  {
   "cell_type": "code",
   "execution_count": 7,
   "metadata": {},
   "outputs": [
    {
     "data": {
      "application/json": {
       "ascii": false,
       "bar_format": null,
       "colour": null,
       "elapsed": 0.011978387832641602,
       "initial": 0,
       "n": 0,
       "ncols": null,
       "nrows": null,
       "postfix": null,
       "prefix": "Map",
       "rate": null,
       "total": 872,
       "unit": " examples",
       "unit_divisor": 1000,
       "unit_scale": false
      },
      "application/vnd.jupyter.widget-view+json": {
       "model_id": "675e08e68d374e9d9d1799d5c5079ff5",
       "version_major": 2,
       "version_minor": 0
      },
      "text/plain": [
       "Map:   0%|          | 0/872 [00:00<?, ? examples/s]"
      ]
     },
     "metadata": {},
     "output_type": "display_data"
    },
    {
     "name": "stdout",
     "output_type": "stream",
     "text": [
      "[\"it 's a charming and often affecting journey . \", 'unflinchingly bleak and desperate ', 'allows us to hope that nolan is poised to embark a major career as a commercial yet inventive filmmaker . ', \"the acting , costumes , music , cinematography and sound are all astounding given the production 's austere locales . \", \"it 's slow -- very , very slow . \", 'although laced with humor and a few fanciful touches , the film is a refreshingly serious look at young women . ', 'a sometimes tedious film . ', \"or doing last year 's taxes with your ex-wife . \", \"you do n't have to know about music to appreciate the film 's easygoing blend of comedy and romance . \", \"in exactly 89 minutes , most of which passed as slowly as if i 'd been sitting naked on an igloo , formula 51 sank from quirky to jerky to utter turkey . \", 'the mesmerizing performances of the leads keep the film grounded and keep the audience riveted . ', 'it takes a strange kind of laziness to waste the talents of robert forster , anne meara , eugene levy , and reginald veljohnson all in the same movie . ', '... the film suffers from a lack of humor ( something needed to balance out the violence ) ... ', \"we root for ( clara and paul ) , even like them , though perhaps it 's an emotion closer to pity . \", \"even horror fans will most likely not find what they 're seeking with trouble every day ; the movie lacks both thrills and humor . \", 'a gorgeous , high-spirited musical from india that exquisitely blends music , dance , song , and high drama . ', \"the emotions are raw and will strike a nerve with anyone who 's ever had family trauma . \", \"audrey tatou has a knack for picking roles that magnify her outrageous charm , and in this literate french comedy , she 's as morning-glory exuberant as she was in amélie . \", '... the movie is just a plain old monster . ', 'in its best moments , resembles a bad high school production of grease , without benefit of song . ', 'pumpkin takes an admirable look at the hypocrisy of political correctness , but it does so with such an uneven tone that you never know when humor ends and tragedy begins . ', 'the iditarod lasts for days - this just felt like it did . ', 'holden caulfield did it better . ', 'a delectable and intriguing thriller filled with surprises , read my lips is an original . ', 'seldom has a movie so closely matched the spirit of a man and his work . ', \"nicks , seemingly uncertain what 's going to make people laugh , runs the gamut from stale parody to raunchy sex gags to formula romantic comedy . \", 'the action switches between past and present , but the material link is too tenuous to anchor the emotional connections that purport to span a 125-year divide . ', \"it 's an offbeat treat that pokes fun at the democratic exercise while also examining its significance for those who take part . \", \"it 's a cookie-cutter movie , a cut-and-paste job . \", 'i had to look away - this was god awful . ', \"thanks to scott 's charismatic roger and eisenberg 's sweet nephew , roger dodger is one of the most compelling variations on in the company of men . \", \"... designed to provide a mix of smiles and tears , `` crossroads '' instead provokes a handful of unintentional howlers and numerous yawns . \", 'a gorgeous , witty , seductive movie . ', \"if the movie succeeds in instilling a wary sense of ` there but for the grace of god , ' it is far too self-conscious to draw you deeply into its world . \", \"it does n't believe in itself , it has no sense of humor ... it 's just plain bored . \", \"a sequence of ridiculous shoot - 'em - up scenes . \", 'the weight of the piece , the unerring professionalism of the chilly production , and the fascination embedded in the lurid topic prove recommendation enough . ', \"( w ) hile long on amiable monkeys and worthy environmentalism , jane goodall 's wild chimpanzees is short on the thrills the oversize medium demands . \", 'as surreal as a dream and as detailed as a photograph , as visually dexterous as it is at times imaginatively overwhelming . ', 'escaping the studio , piccoli is warmly affecting and so is this adroitly minimalist movie . ', \"there 's ... tremendous energy from the cast , a sense of playfulness and excitement that seems appropriate . \", 'this illuminating documentary transcends our preconceived vision of the holy land and its inhabitants , revealing the human complexities beneath . ', \"the subtle strength of `` elling '' is that it never loses touch with the reality of the grim situation . \", 'holm ... embodies the character with an effortlessly regal charisma . ', 'the title not only describes its main characters , but the lazy people behind the camera as well . ', 'it offers little beyond the momentary joys of pretty and weightless intellectual entertainment . ', 'a synthesis of cliches and absurdities that seems positively decadent in its cinematic flash and emptiness . ', 'a subtle and well-crafted ( for the most part ) chiller . ', 'has a lot of the virtues of eastwood at his best . ', \"it 's hampered by a lifetime-channel kind of plot and a lead actress who is out of her depth . \", 'it feels like an after-school special gussied up with some fancy special effects , and watching its rote plot points connect is about as exciting as gazing at an egg timer for 93 minutes . ', \"for the most part , director anne-sophie birot 's first feature is a sensitive , extraordinarily well-acted drama . \", 'mr. tsai is a very original artist in his medium , and what time is it there ? ', 'sade is an engaging look at the controversial eponymous and fiercely atheistic hero . ', 'so devoid of any kind of intelligible story that it makes films like xxx and collateral damage seem like thoughtful treatises ', 'a tender , heartfelt family drama . ', '... a hollow joke told by a cinematic gymnast having too much fun embellishing the misanthropic tale to actually engage it . ', \"the cold turkey would 've been a far better title . \", 'manages to be both repulsively sadistic and mundane . ', \"it 's just disappointingly superficial -- a movie that has all the elements necessary to be a fascinating , involving character study , but never does more than scratch the surface . \", \"this is a story of two misfits who do n't stand a chance alone , but together they are magnificent . \", 'schaeffer has to find some hook on which to hang his persistently useless movies , and it might as well be the resuscitation of the middle-aged character . ', 'the primitive force of this film seems to bubble up from the vast collective memory of the combatants . ', 'on this tricky topic , tadpole is very much a step in the right direction , with its blend of frankness , civility and compassion . ', \"the script kicks in , and mr. hartley 's distended pace and foot-dragging rhythms follow . \", \"you wonder why enough was n't just a music video rather than a full-length movie . \", \"if you 're hard up for raunchy college humor , this is your ticket right here . \", 'a fast , funny , highly enjoyable movie . ', 'good old-fashioned slash-and-hack is back ! ', 'this one is definitely one to skip , even for horror movie fanatics . ', 'for all its impressive craftsmanship , and despite an overbearing series of third-act crescendos , lily chou-chou never really builds up a head of emotional steam . ', 'exquisitely nuanced in mood tics and dialogue , this chamber drama is superbly acted by the deeply appealing veteran bouquet and the chilling but quite human berling . ', 'uses high comedy to evoke surprising poignance . ', 'one of creepiest , scariest movies to come along in a long , long time , easily rivaling blair witch or the others . ', 'a string of rehashed sight gags based in insipid vulgarity . ', \"among the year 's most intriguing explorations of alientation . \", 'the movie fails to live up to the sum of its parts . ', \"the son 's room is a triumph of gentility that earns its moments of pathos . \", 'there is nothing outstanding about this film , but it is good enough and will likely be appreciated most by sailors and folks who know their way around a submarine . ', 'this is a train wreck of an action film -- a stupefying attempt by the filmmakers to force-feed james bond into the mindless xxx mold and throw 40 years of cinematic history down the toilet in favor of bright flashes and loud bangs . ', \"the draw ( for `` big bad love '' ) is a solid performance by arliss howard . \", 'green might want to hang onto that ski mask , as robbery may be the only way to pay for his next project . ', \"it 's one pussy-ass world when even killer-thrillers revolve around group therapy sessions . \", \"though it 's become almost redundant to say so , major kudos go to leigh for actually casting people who look working-class . \", \"the band 's courage in the face of official repression is inspiring , especially for aging hippies ( this one included ) . \", 'the movie achieves as great an impact by keeping these thoughts hidden as ... ( quills ) did by showing them . ', 'the film flat lines when it should peak and is more missed opportunity and trifle than dark , decadent truffle . ', 'jaglom ... put ( s ) the audience in the privileged position of eavesdropping on his characters ', \"fresnadillo 's dark and jolting images have a way of plying into your subconscious like the nightmare you had a week ago that wo n't go away . \", \"we know the plot 's a little crazy , but it held my interest from start to finish . \", \"it 's a scattershot affair , but when it hits its mark it 's brilliant . \", 'hardly a masterpiece , but it introduces viewers to a good charitable enterprise and some interesting real people . ', \"you wo n't like roger , but you will quickly recognize him . \", \"if steven soderbergh 's ` solaris ' is a failure it is a glorious failure . \", 'byler reveals his characters in a way that intrigues and even fascinates us , and he never reduces the situation to simple melodrama . ', 'this riveting world war ii moral suspense story deals with the shadow side of american culture : racial prejudice in its ugly and diverse forms . ', \"it 's difficult to imagine the process that produced such a script , but here 's guessing that spray cheese and underarm noises played a crucial role . \", 'no sophomore slump for director sam mendes , who segues from oscar winner to oscar-winning potential with a smooth sleight of hand . ', 'on the whole , the movie lacks wit , feeling and believability to compensate for its incessant coarseness and banality . ', 'why make a documentary about these marginal historical figures ? ', 'neither parker nor donovan is a typical romantic lead , but they bring a fresh , quirky charm to the formula . ', 'his last movie was poetically romantic and full of indelible images , but his latest has nothing going for it . ', 'does paint some memorable images ... , but makhmalbaf keeps her distance from the characters ', 'a gripping movie , played with performances that are all understated and touching . ', \"it 's one of those baseball pictures where the hero is stoic , the wife is patient , the kids are as cute as all get-out and the odds against success are long enough to intimidate , but short enough to make a dream seem possible . \", \"combining quick-cut editing and a blaring heavy metal much of the time , beck seems to be under the illusion that he 's shooting the latest system of a down video . \", \"the movie 's relatively simple plot and uncomplicated morality play well with the affable cast . \", \"what the director ca n't do is make either of val kilmer 's two personas interesting or worth caring about . \", \"too often , the viewer is n't reacting to humor so much as they are wincing back in repugnance . \", \"it 's great escapist fun that recreates a place and time that will never happen again . \", 'scores no points for originality , wit , or intelligence . ', \"there is n't nearly enough fun here , despite the presence of some appealing ingredients . \", 'hilariously inept and ridiculous . ', 'this movie is maddening . ', \"it haunts you , you ca n't forget it , you admire its conception and are able to resolve some of the confusions you had while watching it . \", 'sam mendes has become valedictorian at the school for soft landings and easy ways out . ', \"one of the smartest takes on singles culture i 've seen in a long time . \", 'moody , heartbreaking , and filmed in a natural , unforced style that makes its characters seem entirely convincing even when its script is not . ', 'every nanosecond of the the new guy reminds you that you could be doing something else far more pleasurable . ', 'comes ... uncomfortably close to coasting in the treads of the bicycle thief . ', 'warm water under a red bridge is a quirky and poignant japanese film that explores the fascinating connections between women , water , nature , and sexuality . ', 'it seems to me the film is about the art of ripping people off without ever letting them consciously know you have done so ', 'old-form moviemaking at its best . ', 'turns potentially forgettable formula into something strangely diverting . ', '( lawrence bounces ) all over the stage , dancing , running , sweating , mopping his face and generally displaying the wacky talent that brought him fame in the first place . ', \"a movie that reminds us of just how exciting and satisfying the fantasy cinema can be when it 's approached with imagination and flair . \", 'confirms the nagging suspicion that ethan hawke would be even worse behind the camera than he is in front of it . ', 'in the end , we are left with something like two ships passing in the night rather than any insights into gay love , chinese society or the price one pays for being dishonest . ', 'montias ... pumps a lot of energy into his nicely nuanced narrative and surrounds himself with a cast of quirky -- but not stereotyped -- street characters . ', 'it provides the grand , intelligent entertainment of a superior cast playing smart people amid a compelling plot . ', 'suffers from the lack of a compelling or comprehensible narrative . ', 'in execution , this clever idea is far less funny than the original , killers from space . ', 'scooby dooby doo / and shaggy too / you both look and sound great . ', 'the tale of tok ( andy lau ) , a sleek sociopath on the trail of o ( takashi sorimachi ) , the most legendary of asian hitmen , is too scattershot to take hold . ', \"it all drags on so interminably it 's like watching a miserable relationship unfold in real time . \", 'pumpkin means to be an outrageous dark satire on fraternity life , but its ambitions far exceed the abilities of writer adam larson broder and his co-director , tony r. abrams , in their feature debut . ', 'looks and feels like a project better suited for the small screen . ', 'forced , familiar and thoroughly condescending . ', 'that is a compliment to kuras and miller . ', \"it 's not the ultimate depression-era gangster movie . \", 'sacrifices the value of its wealth of archival foot-age with its less-than-objective stance . ', 'the character of zigzag is not sufficiently developed to support a film constructed around him . ', \"what better message than ` love thyself ' could young women of any size receive ? \", 'a solid film ... but more conscientious than it is truly stirring . ', 'while ( hill ) has learned new tricks , the tricks alone are not enough to salvage this lifeless boxing film . ', \"the best that can be said about the work here of scottish director ritchie ... is that he obviously does n't have his heart in it . \", \"about a manga-like heroine who fights back at her abusers , it 's energetic and satisfying if not deep and psychological . \", \"the talented and clever robert rodriguez perhaps put a little too much heart into his first film and did n't reserve enough for his second . \", 'feels too formulaic and too familiar to produce the transgressive thrills of early underground work . ', 'the volatile dynamics of female friendship is the subject of this unhurried , low-key film that is so off-hollywood that it seems positively french in its rhythms and resonance . ', \"overall very good for what it 's trying to do . \", 'a big , gorgeous , sprawling swashbuckler that delivers its diversions in grand , uncomplicated fashion . ', 'a difficult , absorbing film that manages to convey more substance despite its repetitions and inconsistencies than do most films than are far more pointed and clear . ', 'the heavy-handed film is almost laughable as a consequence . ', 'a solid examination of the male midlife crisis . ', 'a nightmare date with a half-formed wit done a great disservice by a lack of critical distance and a sad trust in liberal arts college bumper sticker platitudes . ', 'manages to transcend the sex , drugs and show-tunes plot into something far richer . ', 'it takes talent to make a lifeless movie about the most heinous man who ever lived . ', 'by getting myself wrapped up in the visuals and eccentricities of many of the characters , i found myself confused when it came time to get to the heart of the movie . ', \"like leon , it 's frustrating and still oddly likable . \", 'uncommonly stylish but equally silly ... the picture fails to generate much suspense , nor does it ask searching enough questions to justify its pretensions . ', 'not exactly the bees knees ', \"there seems to be no clear path as to where the story 's going , or how long it 's going to take to get there . \", \"slapstick buffoonery can tickle many a preschooler 's fancy , but when it costs a family of four about $ 40 to see a film in theaters , why spend money on a dog like this when you can rent a pedigree instead ? \", \"a woman 's pic directed with resonance by ilya chaiken . \", 'may reawaken discussion of the kennedy assassination but this fictional film looks made for cable rather than for the big screen . ', 'characters still need to function according to some set of believable and comprehensible impulses , no matter how many drugs they do or how much artistic license avary employs . ', \"the end result is a film that 's neither . \", 'manages to be sweet and wickedly satisfying at the same time . ', \"leigh 's film is full of memorable performances from top to bottom . \", \"it 's also , clearly , great fun . \", 'rarely has leukemia looked so shimmering and benign . ', \"it seems like i have been waiting my whole life for this movie and now i ca n't wait for the sequel . \", \"determined to be fun , and bouncy , with energetic musicals , the humor did n't quite engage this adult . \", \"if you dig on david mamet 's mind tricks ... rent this movie and enjoy ! \", 'bleakly funny , its characters all the more touching for refusing to pity or memorialize themselves . ', 'delivers the same old same old , tarted up with latin flava and turned out by hollywood playas . ', \"does n't offer much besides glib soullessness , raunchy language and a series of brutal set pieces ... that raise the bar on stylized screen violence . \", 'it made me want to wrench my eyes out of my head and toss them at the screen . ', \"the film 's performances are thrilling . \", \"unfortunately , it 's not silly fun unless you enjoy really bad movies . \", \"it 's a bad thing when a movie has about as much substance as its end credits blooper reel . \", \"i sympathize with the plight of these families , but the movie does n't do a very good job conveying the issue at hand . \", \"the lower your expectations , the more you 'll enjoy it . \", 'though perry and hurley make inspiring efforts to breathe life into the disjointed , haphazard script by jay scherick and david ronn , neither the actors nor director reginald hudlin can make it more than fitfully entertaining . ', 'a must-see for the david mamet enthusiast and for anyone who appreciates intelligent , stylish moviemaking . ', 'pacino is brilliant as the sleep-deprived dormer , his increasing weariness as much existential as it is physical . ', \"` de niro ... is a veritable source of sincere passion that this hollywood contrivance orbits around . ' \", 'a misogynistic piece of filth that attempts to pass itself off as hip , young adult entertainment . ', 'its story may be a thousand years old , but why did it have to seem like it took another thousand to tell it to us ? ', \"try as i may , i ca n't think of a single good reason to see this movie , even though everyone in my group extemporaneously shouted , ` thank you ! ' \", \"the movie is beautiful to behold and engages one in a sense of epic struggle -- inner and outer -- that 's all too rare in hollywood 's hastier productions . \", \"a celebration of quirkiness , eccentricity , and certain individuals ' tendency to let it all hang out , and damn the consequences . \", \"morton uses her face and her body language to bring us morvern 's soul , even though the character is almost completely deadpan . \", \"instead of a hyperbolic beat-charged urban western , it 's an unpretentious , sociologically pointed slice of life . \", 'my thoughts were focused on the characters . ', \"so , too , is this comedy about mild culture clashing in today 's new delhi . \", 'for starters , the story is just too slim . ', 'this is a winning ensemble comedy that shows canadians can put gentle laughs and equally gentle sentiments on the button , just as easily as their counterparts anywhere else in the world . ', \"at the very least , if you do n't know anything about derrida when you walk into the theater , you wo n't know much more when you leave . \", 'the format gets used best ... to capture the dizzying heights achieved by motocross and bmx riders , whose balletic hotdogging occasionally ends in bone-crushing screwups . ', \"inside the film 's conflict-powered plot there is a decent moral trying to get out , but it 's not that , it 's the tension that keeps you in your seat . \", 'there ought to be a directing license , so that ed burns can have his revoked . ', 'bad . ', \"that dogged good will of the parents and ` vain ' jia 's defoliation of ego , make the film touching despite some doldrums . \", 'falls neatly into the category of good stupid fun . ', 'an artful , intelligent film that stays within the confines of a well-established genre . ', 'smart , provocative and blisteringly funny . ', 'and the lesson , in the end , is nothing new . ', \"this is not the undisputed worst boxing movie ever , but it 's certainly not a champion - the big loser is the audience . \", \"not only is undercover brother as funny , if not more so , than both austin powers films , but it 's also one of the smarter , savvier spoofs to come along in some time . \", \"to say this was done better in wilder 's some like it hot is like saying the sun rises in the east . \", 'the entire movie is about a boring , sad man being boring and sad . ', 'this time mr. burns is trying something in the martin scorsese street-realist mode , but his self-regarding sentimentality trips him up again . ', 'perceptive in its vision of nascent industrialized world politics as a new art form , but far too clunky , didactic and saddled with scenes that seem simply an ill fit for this movie . ', 'the best revenge may just be living well because this film , unlike other dumas adaptations , is far more likened to a treasure than a lengthy jail sentence . ', 'the movie understands like few others how the depth and breadth of emotional intimacy give the physical act all of its meaning and most of its pleasure . ', \"once ( kim ) begins to overplay the shock tactics and bait-and-tackle metaphors , you may decide it 's too high a price to pay for a shimmering picture postcard . \", \"all that 's missing is the spontaneity , originality and delight . \", 'what the film lacks in general focus it makes up for in compassion , as corcuera manages to find the seeds of hope in the form of collective action . ', 'the socio-histo-political treatise is told in earnest strides ... ( and ) personal illusion is deconstructed with poignancy . ', 'my reaction in a word : disappointment . ', \"a psychological thriller with a genuinely spooky premise and an above-average cast , actor bill paxton 's directing debut is a creepy slice of gothic rural americana . \", 'corny , schmaltzy and predictable , but still manages to be kind of heartwarming , nonetheless . ', \"nothing 's at stake , just a twisty double-cross you can smell a mile away -- still , the derivative nine queens is lots of fun . \", 'far more imaginative and ambitious than the trivial , cash-in features nickelodeon has made from its other animated tv series . ', \"of course , by more objective measurements it 's still quite bad . \", 'as the two leads , lathan and diggs are charming and have chemistry both as friends and lovers . ', 'it provides an honest look at a community striving to anchor itself in new grounds . ', 'this movie seems to have been written using mad-libs . ', 'reign of fire looks as if it was made without much thought -- and is best watched that way . ', 'martin and barbara are complex characters -- sometimes tender , sometimes angry -- and the delicate performances by sven wollter and viveka seldahl make their hopes and frustrations vivid . ', \"it 's not that kung pow is n't funny some of the time -- it just is n't any funnier than bad martial arts movies are all by themselves , without all oedekerk 's impish augmentation . \", \"i 'd have to say the star and director are the big problems here . \", 'affleck and jackson are good sparring partners . ', \"whether you like rap music or loathe it , you ca n't deny either the tragic loss of two young men in the prime of their talent or the power of this movie . \", \"not since japanese filmmaker akira kurosawa 's ran have the savagery of combat and the specter of death been visualized with such operatic grandeur . \", \"a by-the-numbers effort that wo n't do much to enhance the franchise . \", 'an occasionally funny , but overall limp , fish-out-of-water story . ', \"brilliantly explores the conflict between following one 's heart and following the demands of tradition . \", 'despite the 2-d animation , the wild thornberrys movie makes for a surprisingly cinematic experience . ', 'it appears that something has been lost in the translation to the screen . ', 'it all feels like a monty python sketch gone horribly wrong . ', 'the film tunes into a grief that could lead a man across centuries . ', \"dazzles with its fully-written characters , its determined stylishness ( which always relates to characters and story ) and johnny dankworth 's best soundtrack in years . \", \"it 's a work by an artist so in control of both his medium and his message that he can improvise like a jazzman . \", \"it 's the chemistry between the women and the droll scene-stealing wit and wolfish pessimism of anna chancellor that makes this `` two weddings and a funeral '' fun . \", \"stealing harvard is evidence that the farrelly bros. -- peter and bobby -- and their brand of screen comedy are wheezing to an end , along with green 's half-hearted movie career . \", 'a full world has been presented onscreen , not some series of carefully structured plot points building to a pat resolution . ', 'huston nails both the glad-handing and the choking sense of hollow despair . ', \"one of the more intelligent children 's movies to hit theaters this year . \", 'the film tries too hard to be funny and tries too hard to be hip . ', \"blanchett 's performance confirms her power once again . \", 'if you believe any of this , i can make you a real deal on leftover enron stock that will double in value a week from friday . ', 'attempts by this ensemble film to impart a message are so heavy-handed that they instead pummel the audience . ', 'no one but a convict guilty of some truly heinous crime should have to sit through the master of disguise . ', 'rarely has so much money delivered so little entertainment . ', 'taylor appears to have blown his entire budget on soundtrack rights and had nothing left over for jokes . ', \"`` the time machine '' is a movie that has no interest in itself . \", \"a rarity among recent iranian films : it 's a comedy full of gentle humor that chides the absurdity of its protagonist 's plight . \", \"/ but daphne , you 're too buff / fred thinks he 's tough / and velma - wow , you 've lost weight ! \", \"the very definition of the ` small ' movie , but it is a good stepping stone for director sprecher . \", \"it 's like every bad idea that 's ever gone into an after-school special compiled in one place , minus those daytime programs ' slickness and sophistication ( and who knew they even had any ? ) . \", \"chilling , well-acted , and finely directed : david jacobson 's dahmer . \", \"it ca n't decide if it wants to be a mystery/thriller , a romance or a comedy . \", \"paid in full is so stale , in fact , that its most vibrant scene is one that uses clips from brian de palma 's scarface . \", \"a coda in every sense , the pinochet case splits time between a minute-by-minute account of the british court 's extradition chess game and the regime 's talking-head survivors . \", \"it 's played in the most straight-faced fashion , with little humor to lighten things up . \", 'a dumb movie with dumb characters doing dumb things and you have to be really dumb not to see where this is going . ', 'with virtually no interesting elements for an audience to focus on , chelsea walls is a triple-espresso endurance challenge . ', 'dense with characters and contains some thrilling moments . ', 'as unseemly as its title suggests . ', \"it 's like watching a nightmare made flesh . \", 'minority report is exactly what the title indicates , a report . ', \"it 's hard to like a film about a guy who is utterly unlikeable , and shiner , starring michael caine as an aging british boxing promoter desperate for a taste of fame and fortune , is certainly that . \", 'an entertaining , colorful , action-filled crime story with an intimate heart . ', 'for this reason and this reason only -- the power of its own steadfast , hoity-toity convictions -- chelsea walls deserves a medal . ', \"it just may inspire a few younger moviegoers to read stevenson 's book , which is a treasure in and of itself . \", 'basically a static series of semi-improvised ( and semi-coherent ) raps between the stars . ', \"... with `` the bourne identity '' we return to the more traditional action genre . \", \"it 's so good that its relentless , polished wit can withstand not only inept school productions , but even oliver parker 's movie adaptation . \", 'chokes on its own depiction of upper-crust decorum . ', \"while there 's something intrinsically funny about sir anthony hopkins saying ` get in the car , bitch , ' this jerry bruckheimer production has little else to offer \", 'a rewarding work of art for only the most patient and challenge-hungry moviegoers . ', 'directed in a paint-by-numbers manner . ', 'k-19 exploits our substantial collective fear of nuclear holocaust to generate cheap hollywood tension . ', \"at its best , queen is campy fun like the vincent price horror classics of the '60s . \", \"it 's a much more emotional journey than what shyamalan has given us in his past two movies , and gibson , stepping in for bruce willis , is the perfect actor to take us on the trip . \", 'the quality of the art combined with the humor and intelligence of the script allow the filmmakers to present the biblical message of forgiveness without it ever becoming preachy or syrupy . ', 'cool ? ', 'deliriously funny , fast and loose , accessible to the uninitiated , and full of surprises ', 'even with a green mohawk and a sheet of fire-red flame tattoos covering his shoulder , however , kilmer seems to be posing , rather than acting . ', \"the story and the friendship proceeds in such a way that you 're watching a soap opera rather than a chronicle of the ups and downs that accompany lifelong friendships . \", \"at a time when half the so-called real movies are little more than live-action cartoons , it 's refreshing to see a cartoon that knows what it is , and knows the form 's history . \", \"the old-world - meets-new mesh is incarnated in the movie 's soundtrack , a joyful effusion of disco bollywood that , by the end of monsoon wedding , sent my spirit soaring out of the theater . \", 'jones ... does offer a brutal form of charisma . ', 'its well of thorn and vinegar ( and simple humanity ) has long been plundered by similar works featuring the insight and punch this picture so conspicuously lacks . ', 'travels a fascinating arc from hope and euphoria to reality and disillusionment . ', \"serving sara does n't serve up a whole lot of laughs . \", \"the sort of film that makes me miss hitchcock , but also feel optimistic that there 's hope for popular cinema yet . \", 'fun , flip and terribly hip bit of cinematic entertainment . ', \"the x potion gives the quickly named blossom , bubbles and buttercup supernatural powers that include extraordinary strength and laser-beam eyes , which unfortunately do n't enable them to discern flimsy screenplays . \", 'the wild thornberrys movie is a jolly surprise . ', 'entertains by providing good , lively company . ', \"a densely constructed , highly referential film , and an audacious return to form that can comfortably sit among jean-luc godard 's finest work . \", 'what was once original has been co-opted so frequently that it now seems pedestrian . ', 'the story and structure are well-honed . ', 'macdowell , whose wifty southern charm has anchored lighter affairs ... brings an absolutely riveting conviction to her role . ', 'an intriguing cinematic omnibus and round-robin that occasionally is more interesting in concept than in execution . ', 'the second coming of harry potter is a film far superior to its predecessor . ', \"if you can stomach the rough content , it 's worth checking out for the performances alone . \", 'a warm , funny , engaging film . ', \"i 'll bet the video game is a lot more fun than the film . \", 'the best film about baseball to hit theaters since field of dreams . ', 'it is great summer fun to watch arnold and his buddy gerald bounce off a quirky cast of characters . ', 'complete lack of originality , cleverness or even visible effort ', \"awesome creatures , breathtaking scenery , and epic battle scenes add up to another ` spectacular spectacle . ' \", 'all-in-all , the film is an enjoyable and frankly told tale of a people who live among us , but not necessarily with us . ', \"hit and miss as far as the comedy goes and a big ole ' miss in the way of story . \", 'too much of it feels unfocused and underdeveloped . ', 'a deep and meaningful film . ', 'but it could have been worse . ', \"that 's pure pr hype . \", 'a painfully funny ode to bad behavior . ', \"you 'll gasp appalled and laugh outraged and possibly , watching the spectacle of a promising young lad treading desperately in a nasty sea , shed an errant tear . \", 'liotta put on 30 pounds for the role , and has completely transformed himself from his smooth , goodfellas image . ', 'a beguiling splash of pastel colors and prankish comedy from disney . ', 'it proves quite compelling as an intense , brooding character study . ', 'an unwise amalgam of broadcast news and vibes . ', \"utterly lacking in charm , wit and invention , roberto benigni 's pinocchio is an astonishingly bad film . \", 'and that leaves a hole in the center of the salton sea . ', 'the chateau cleverly probes the cross-cultural differences between gauls and yanks . ', \"broomfield turns his distinctive ` blundering ' style into something that could really help clear up the case . \", 'a pleasant enough romance with intellectual underpinnings , the kind of movie that entertains even as it turns maddeningly predictable . ', \"what really makes it special is that it pulls us into its world , gives us a hero whose suffering and triumphs we can share , surrounds him with interesting characters and sends us out of the theater feeling we 've shared a great adventure . \", \"with the exception of some fleetingly amusing improvisations by cedric the entertainer as perry 's boss , there is n't a redeeming moment here . \", 'having had the good sense to cast actors who are , generally speaking , adored by the movie-going public , khouri then gets terrific performances from them all . ', '... a boring parade of talking heads and technical gibberish that will do little to advance the linux cause . ', \"it 's of the quality of a lesser harrison ford movie - six days , seven nights , maybe , or that dreadful sabrina remake . \", 'if you enjoy more thoughtful comedies with interesting conflicted characters ; this one is for you . ', 'the most hopelessly monotonous film of the year , noteworthy only for the gimmick of being filmed as a single unbroken 87-minute take . ', 'it deserves to be seen by anyone with even a passing interest in the events shaping the world beyond their own horizons . ', 'in an effort , i suspect , not to offend by appearing either too serious or too lighthearted , it offends by just being wishy-washy . ', 'no way i can believe this load of junk . ', 'there is a fabric of complex ideas here , and feelings that profoundly deepen them . ', \"this tenth feature is a big deal , indeed -- at least the third-best , and maybe even a notch above the previous runner-up , nicholas meyer 's star trek vi : the undiscovered country . \", 'not only unfunny , but downright repellent . ', 'works hard to establish rounded characters , but then has nothing fresh or particularly interesting to say about them . ', 'just one bad idea after another . ', '... turns so unforgivably trite in its last 10 minutes that anyone without a fortified sweet tooth will likely go into sugar shock . ', 'his comedy premises are often hackneyed or just plain crude , calculated to provoke shocked laughter , without following up on a deeper level . ', '( næs ) directed the stage version of elling , and gets fine performances from his two leads who originated the characters on stage . ', 'a swashbuckling tale of love , betrayal , revenge and above all , faith . ', 'for movie lovers as well as opera lovers , tosca is a real treat . ', 'the film is quiet , threatening and unforgettable . ', 'there is no pleasure in watching a child suffer . ', 'jason x is positively anti-darwinian : nine sequels and 400 years later , the teens are none the wiser and jason still kills on auto-pilot . ', 'stealing harvard aspires to comedic grand larceny but stands convicted of nothing more than petty theft of your time . ', \"( d ) oes n't bother being as cloying or preachy as equivalent evangelical christian movies -- maybe the filmmakers know that the likely audience will already be among the faithful . \", 'displaying about equal amounts of naiveté , passion and talent , beneath clouds establishes sen as a filmmaker of considerable potential . ', \"` easily my choice for one of the year 's best films . ' \", 'a very long movie , dull in stretches , with entirely too much focus on meal preparation and igloo construction . ', 'as a first-time director , paxton has tapped something in himself as an actor that provides frailty with its dark soul . ', \"it 's a grab bag of genres that do n't add up to a whole lot of sense . \", 'instead of hiding pinocchio from critics , miramax should have hidden it from everyone . ', 'portentous and pretentious , the weight of water is appropriately titled , given the heavy-handedness of it drama . ', 'altogether , this is successful as a film , while at the same time being a most touching reconsideration of the familiar masterpiece . ', 'there has always been something likable about the marquis de sade . ', 'the humor is forced and heavy-handed , and occasionally simply unpleasant . ', 'without ever becoming didactic , director carlos carrera expertly weaves this novelistic story of entangled interrelationships and complex morality . ', 'partway through watching this saccharine , easter-egg-colored concoction , you realize that it is made up of three episodes of a rejected tv show . ', \"for the most part , it 's a work of incendiary genius , steering clear of knee-jerk reactions and quick solutions . \", \"the special effects and many scenes of weightlessness look as good or better than in the original , while the oscar-winning sound and james horner 's rousing score make good use of the hefty audio system . \", 'not since freddy got fingered has a major release been so painful to sit through . ', \"the movie is what happens when you blow up small potatoes to 10 times their natural size , and it ai n't pretty . \", \"we have n't seen such hilarity since say it is n't so ! \", \"to call the other side of heaven `` appalling '' would be to underestimate just how dangerous entertainments like it can be . \", 'nothing is sacred in this gut-buster . ', 'feels haphazard , as if the writers mistakenly thought they could achieve an air of frantic spontaneity by simply tossing in lots of characters doing silly stuff and stirring the pot . ', 'tries to add some spice to its quirky sentiments but the taste is all too familiar . ', 'at its worst , it implodes in a series of very bad special effects . ', \"with tightly organized efficiency , numerous flashbacks and a constant edge of tension , miller 's film is one of 2002 's involvingly adult surprises . \", \"a great ensemble cast ca n't lift this heartfelt enterprise out of the familiar . \", 'a warm but realistic meditation on friendship , family and affection . ', \"at times , the suspense is palpable , but by the end there 's a sense that the crux of the mystery hinges on a technicality that strains credulity and leaves the viewer haunted by the waste of potential . \", 'while the resident evil games may have set new standards for thrills , suspense , and gore for video games , the movie really only succeeds in the third of these . ', \"it 's a remarkably solid and subtly satirical tour de force . \", 'director andrew niccol ... demonstrates a wry understanding of the quirks of fame . ', 'when leguizamo finally plugged an irritating character late in the movie . ', 'thekids will probably stay amused at the kaleidoscope of big , colorful characters . ', 'mattei is tiresomely grave and long-winded , as if circularity itself indicated profundity . ', '... plays like somebody spliced random moments of a chris rock routine into what is otherwise a cliche-riddled but self-serious spy thriller . ', 'an overemphatic , would-be wacky , ultimately tedious sex farce . ', 'it all adds up to good fun . ', \"whether writer-director anne fontaine 's film is a ghost story , an account of a nervous breakdown , a trip down memory lane , all three or none of the above , it is as seductive as it is haunting . \", 'another in-your-face wallow in the lower depths made by people who have never sung those blues . ', 'a very well-made , funny and entertaining picture . ', \"it 's worth seeing just on the basis of the wisdom , and at times , the startling optimism , of the children . \", 'despite its title , punch-drunk love is never heavy-handed . ', \"if director michael dowse only superficially understands his characters , he does n't hold them in contempt . \", \"it 's refreshing to see a girl-power movie that does n't feel it has to prove anything . \", 'the film may appear naked in its narrative form ... but it goes deeper than that , to fundamental choices that include the complexity of the catholic doctrine ', 'however it may please those who love movies that blare with pop songs , young science fiction fans will stomp away in disgust . ', 'as vulgar as it is banal . ', 'zhang ... has done an amazing job of getting realistic performances from his mainly nonprofessional cast . ', 'outer-space buffs might love this film , but others will find its pleasures intermittent . ', \"maud and roland 's search for an unknowable past makes for a haunting literary detective story , but labute pulls off a neater trick in possession : he makes language sexy . \", 'more whiny downer than corruscating commentary . ', 'there are simply too many ideas floating around -- part farce , part sliding doors , part pop video -- and yet failing to exploit them . ', \"it 's another stale , kill-by-numbers flick , complete with blade-thin characters and terrible , pun-laden dialogue . \", 'what distinguishes time of favor from countless other thrillers is its underlying concern with the consequences of words and with the complicated emotions fueling terrorist acts . ', \"i do n't mind having my heartstrings pulled , but do n't treat me like a fool . \", \"the movie 's accumulated force still feels like an ugly knot tightening in your stomach . \", 'at least one scene is so disgusting that viewers may be hard pressed to retain their lunch . ', 'it has charm to spare , and unlike many romantic comedies , it does not alienate either gender in the audience . ', \"an operatic , sprawling picture that 's entertainingly acted , magnificently shot and gripping enough to sustain most of its 170-minute length . \", 'a giggle a minute . ', 'uses sharp humor and insight into human nature to examine class conflict , adolescent yearning , the roots of friendship and sexual identity . ', 'the continued good chemistry between carmen and juni is what keeps this slightly disappointing sequel going , with enough amusing banter -- blessedly curse-free -- to keep both kids and parents entertained . ', \"i 'm just too bored to care . \", 'one of the more irritating cartoons you will see this , or any , year . ', \"it 's one heck of a character study -- not of hearst or davies but of the unique relationship between them . \", \"it moves quickly , adroitly , and without fuss ; it does n't give you time to reflect on the inanity -- and the cold war datedness -- of its premise . \", 'i am sorry that i was unable to get the full brunt of the comedy . ', 'a good piece of work more often than not . ', \"while the ideas about techno-saturation are far from novel , they 're presented with a wry dark humor . \", \"charles ' entertaining film chronicles seinfeld 's return to stand-up comedy after the wrap of his legendary sitcom , alongside wannabe comic adams ' attempts to get his shot at the big time . \", 'an exhilarating futuristic thriller-noir , minority report twists the best of technology around a gripping story , delivering a riveting , pulse intensifying escapist adventure of the first order ', 'beautifully observed , miraculously unsentimental comedy-drama . ', \"the film 's hackneyed message is not helped by the thin characterizations , nonexistent plot and pretentious visual style . \", 'a breezy romantic comedy that has the punch of a good sitcom , while offering exceptionally well-detailed characters . ', 'should have been someone else - ', 'coughs and sputters on its own postmodern conceit . ', 'the lion king was a roaring success when it was released eight years ago , but on imax it seems better , not just bigger . ', 'almost gags on its own gore . ', \"a marvel like none you 've seen . \", 'trite , banal , cliched , mostly inoffensive . ', 'immersing us in the endlessly inventive , fiercely competitive world of hip-hop djs , the project is sensational and revelatory , even if scratching makes you itch . ', 'the movie has an infectious exuberance that will engage anyone with a passing interest in the skate/surf culture , the l.a. beach scene and the imaginative ( and sometimes illegal ) ways kids can make a playground out of the refuse of adults . ', \"yakusho and shimizu ... create engaging characterizations in imamura 's lively and enjoyable cultural mix . \", \"this is wild surreal stuff , but brilliant and the camera just kind of sits there and lets you look at this and its like you 're going from one room to the next and none of them have any relation to the other . \", 'there is very little dread or apprehension , and though i like the creepy ideas , they are not executed with anything more than perfunctory skill . ', 'the notion that bombing buildings is the funniest thing in the world goes entirely unexamined in this startlingly unfunny comedy . ', 'good car chases , great fight scenes , and a distinctive blend of european , american and asian influences . ', \"the last 20 minutes are somewhat redeeming , but most of the movie is the same teenage american road-trip drek we 've seen before - only this time you have to read the fart jokes \", 'even in its most tedious scenes , russian ark is mesmerizing . ', 'with its dogged hollywood naturalism and the inexorable passage of its characters toward sainthood , windtalkers is nothing but a sticky-sweet soap . ', 'generally , clockstoppers will fulfill your wildest fantasies about being a different kind of time traveler , while happily killing 94 minutes . ', 'something akin to a japanese alice through the looking glass , except that it seems to take itself far more seriously . ', 'oh come on . ', 'a moody , multi-dimensional love story and sci-fi mystery , solaris is a thought-provoking , haunting film that allows the seeds of the imagination to germinate . ', \"not only are the special effects and narrative flow much improved , and daniel radcliffe more emotionally assertive this time around as harry , but the film conjures the magic of author j.k. rowling 's books . \", \"it 's clear the filmmakers were n't sure where they wanted their story to go , and even more clear that they lack the skills to get us to this undetermined destination . \", '( t ) his beguiling belgian fable , very much its own droll and delicate little film , has some touching things to say about what is important in life and why . ', \"even on those rare occasions when the narrator stops yammering , miller 's hand often feels unsure . \", \"( chaiken 's ) talent lies in an evocative , accurate observation of a distinctive milieu and in the lively , convincing dialogue she creates for her characters . \", 'sticky sweet sentimentality , clumsy plotting and a rosily myopic view of life in the wwii-era mississippi delta undermine this adaptation . ', \"it inspires a continuing and deeply satisfying awareness of the best movies as monumental ` picture shows . ' \", \"featuring a dangerously seductive performance from the great daniel auteuil , `` sade '' covers the same period as kaufmann 's `` quills '' with more unsettlingly realistic results . \", 'gives you the steady pulse of life in a beautiful city viewed through the eyes of a character who , in spite of tragic loss and increasing decrepitude , knows in his bones that he is one of the luckiest men alive . ', \"if you are an actor who can relate to the search for inner peace by dramatically depicting the lives of others onstage , then esther 's story is a compelling quest for truth . \", \"it 's too bad that the helping hand he uses to stir his ingredients is also a heavy one . \", 'yes , dull . ', 'some of their jokes work , but most fail miserably and in the end , pumpkin is far more offensive than it is funny . ', \"intriguing documentary which is emotionally diluted by focusing on the story 's least interesting subject . \", 'shaky close-ups of turkey-on-rolls , stubbly chins , liver spots , red noses and the filmmakers new bobbed do draw easy chuckles but lead nowhere . ', 'the inspirational screenplay by mike rich covers a lot of ground , perhaps too much , but ties things together , neatly , by the end . ', 'ramsay , as in ratcatcher , remains a filmmaker with an acid viewpoint and a real gift for teasing chilly poetry out of lives and settings that might otherwise seem drab and sordid . ', 'the characters are interesting and often very creatively constructed from figure to backstory . ', 'so unremittingly awful that labeling it a dog probably constitutes cruelty to canines . ', \"reggio 's continual visual barrage is absorbing as well as thought-provoking . \", 'adults will wish the movie were less simplistic , obvious , clumsily plotted and shallowly characterized . ', 'you will emerge with a clearer view of how the gears of justice grind on and the death report comes to share airtime alongside the farm report . ', \"thanks to haynes ' absolute control of the film 's mood , and buoyed by three terrific performances , far from heaven actually pulls off this stylistic juggling act . \", 'the problem with this film is that it lacks focus . ', \"belongs to daniel day-lewis as much as it belongs to martin scorsese ; it 's a memorable performance in a big , brassy , disturbing , unusual and highly successful film . \", 'involves two mysteries -- one it gives away and the other featuring such badly drawn characters that its outcome hardly matters . ', 'a tv style murder mystery with a few big screen moments ( including one that seems to be made for a different film altogether ) . ', 'a by-the-numbers patient/doctor pic that covers all the usual ground ', \"it 's a stunning lyrical work of considerable force and truth . \", \"while undisputed is n't exactly a high , it is a gripping , tidy little movie that takes mr. hill higher than he 's been in a while . \", 'funny but perilously slight . ', \"cq 's reflection of artists and the love of cinema-and-self suggests nothing less than a new voice that deserves to be considered as a possible successor to the best european directors . \", \"even if you do n't think ( kissinger 's ) any more guilty of criminal activity than most contemporary statesmen , he 'd sure make a courtroom trial great fun to watch . \", 'dazzling in its complexity , disturbing for its extraordinary themes , the piano teacher is a film that defies categorisation . ', 'a literate presentation that wonderfully weaves a murderous event in 1873 with murderous rage in 2002 . ', \"the script is n't very good ; not even someone as gifted as hoffman ( the actor ) can make it work . \", '( e ) ventually , every idea in this film is flushed down the latrine of heroism . ', \"a cartoon that 's truly cinematic in scope , and a story that 's compelling and heartfelt -- even if the heart belongs to a big , four-legged herbivore . \", \"it 's dumb , but more importantly , it 's just not scary . \", 'detox is ultimately a pointless endeavor . ', \"as a rumor of angels reveals itself to be a sudsy tub of supernatural hokum , not even ms. redgrave 's noblest efforts can redeem it from hopeless sentimentality . \", 'an exquisitely crafted and acted tale . ', 'this is so bad . ', \"it showcases carvey 's talent for voices , but not nearly enough and not without taxing every drop of one 's patience to get to the good stuff . \", 'light years / several warp speeds / levels and levels of dilithium crystals better than the pitiful insurrection . ', \"it 's about following your dreams , no matter what your parents think . \", \"the overall effect is less like a children 's movie than a recruitment film for future hollywood sellouts . \", \"anchored by friel and williams 's exceptional performances , the film 's power lies in its complexity . \", 'unlike the speedy wham-bam effect of most hollywood offerings , character development -- and more importantly , character empathy -- is at the heart of italian for beginners . ', \"a sequel that 's much too big for its britches . \", \"harrison 's flowers puts its heart in the right place , but its brains are in no particular place at all . \", 'deadeningly dull , mired in convoluted melodrama , nonsensical jargon and stiff-upper-lip laboriousness . ', 'dragonfly has no atmosphere , no tension -- nothing but costner , flailing away . ', 'the film is powerful , accessible and funny . ', \"and that 's a big part of why we go to the movies . \", 'crackerjack entertainment -- nonstop romance , music , suspense and action . ', 'the minor figures surrounding ( bobby ) ... form a gritty urban mosaic . ', 'a poignant and compelling story about relationships , food of love takes us on a bumpy but satisfying journey of the heart . ', 'a movie that successfully crushes a best selling novel into a timeframe that mandates that you avoid the godzilla sized soda . ', 'the vivid lead performances sustain interest and empathy , but the journey is far more interesting than the final destination . ', \"lapaglia 's ability to convey grief and hope works with weaver 's sensitive reactions to make this a two-actor master class . \", \"villeneuve spends too much time wallowing in bibi 's generic angst ( there are a lot of shots of her gazing out windows ) . \", \"care deftly captures the wonder and menace of growing up , but he never really embraces the joy of fuhrman 's destructive escapism or the grace-in-rebellion found by his characters . \", 'this is an egotistical endeavor from the daughter of horror director dario argento ( a producer here ) , but her raw performance and utter fearlessness make it strangely magnetic . ', \"if looking for a thrilling sci-fi cinematic ride , do n't settle for this imposter . \", 'plays like a volatile and overlong w magazine fashion spread . ', 'not far beneath the surface , this reconfigured tale asks disturbing questions about those things we expect from military epics . ', \"michael gerbosi 's script is economically packed with telling scenes . \", \"moretti 's compelling anatomy of grief and the difficult process of adapting to loss . \", \"so refreshingly incisive is grant that for the first time he 'll probably appeal more to guys than to their girlfriends who drag them to this movie for the hugh factor . \", 'comes off like a rejected abc afterschool special , freshened up by the dunce of a screenwriting 101 class . ', 'it has its moments of swaggering camaraderie , but more often just feels generic , derivative and done to death . ', 'a romantic comedy enriched by a sharp eye for manners and mores . ', 'the fly-on-the-wall method used to document rural french school life is a refreshing departure from the now more prevalent technique of the docu-makers being a visible part of their work . ', 'rare birds has more than enough charm to make it memorable . ', \"it 's a bit disappointing that it only manages to be decent instead of dead brilliant . \", 'it has all the excitement of eating oatmeal . ', 'it haunts , horrifies , startles and fascinates ; it is impossible to look away . ', 'for close to two hours the audience is forced to endure three terminally depressed , mostly inarticulate , hyper dysfunctional families for the price of one . ', 'a superbly acted and funny/gritty fable of the humanizing of one woman at the hands of the unseen forces of fate . ', \"( t ) here 's only so much anyone can do with a florid , overplotted , anne rice rock 'n' roll vampire novel before the built-in silliness of the whole affair defeats them . \", \"for anyone unfamiliar with pentacostal practices in general and theatrical phenomenon of hell houses in particular , it 's an eye-opener . \", \"`` mostly martha '' is a bright , light modern day family parable that wears its heart on its sleeve for all to see . \", 'i just loved every minute of this film . ', 'a quiet , pure , elliptical film ', 'a disappointment for those who love alternate versions of the bard , particularly ones that involve deep fryers and hamburgers . ', 'a simple , but gritty and well-acted ensemble drama that encompasses a potent metaphor for a country still dealing with its fascist past . ', \"it 's so mediocre , despite the dynamic duo on the marquee , that we just ca n't get no satisfaction . \", 'do not see this film . ', 'binoche makes it interesting trying to find out . ', 'the most compelling wiseman epic of recent years . ', \"there 's no emotional pulse to solaris . \", 'for each chuckle there are at least 10 complete misses , many coming from the amazingly lifelike tara reid , whose acting skills are comparable to a cardboard cutout . ', \"although huppert 's intensity and focus has a raw exhilaration about it , the piano teacher is anything but fun . \", \"from the opening scenes , it 's clear that all about the benjamins is a totally formulaic movie . \", 'on the heels of the ring comes a similarly morose and humorless horror movie that , although flawed , is to be commended for its straight-ahead approach to creepiness . ', 'the film is based on truth and yet there is something about it that feels incomplete , as if the real story starts just around the corner . ', \"i 've always dreamed of attending cannes , but after seeing this film , it 's not that big a deal . \", 'a coarse and stupid gross-out . ', '... nothing scary here except for some awful acting and lame special effects . ', 'nothing in waking up in reno ever inspired me to think of its inhabitants as anything more than markers in a screenplay . ', \"here 's yet another studio horror franchise mucking up its storyline with glitches casual fans could correct in their sleep . \", \"so unassuming and pure of heart , you ca n't help but warmly extend your arms and yell ` safe ! ' \", 'it treats women like idiots . ', '... plot holes so large and obvious a marching band might as well be stomping through them in clown clothes , playing a college football fight song on untuned instruments . ', \"but it 's too long and too convoluted and it ends in a muddle . \", 'one of the best films of the year with its exploration of the obstacles to happiness faced by five contemporary individuals ... a psychological masterpiece . ', \"although german cooking does not come readily to mind when considering the world 's best cuisine , mostly martha could make deutchland a popular destination for hungry tourists . \", 'if the first men in black was money , the second is small change . ', \"do n't be fooled by the impressive cast list - eye see you is pure junk . \", \"another one of those estrogen overdose movies like `` divine secrets of the ya ya sisterhood , '' except that the writing , acting and character development are a lot better . \", \"scorsese does n't give us a character worth giving a damn about . \", 'with rabbit-proof fence , noyce has tailored an epic tale into a lean , economical movie . ', \"the plot convolutions ultimately add up to nothing more than jerking the audience 's chain . \", 'there are some wonderfully fresh moments that smooth the moral stiffness with human kindness and hopefulness . ', 'does little more than play an innocuous game of fill-in - the-blanks with a tragic past . ', \"feature debuter d.j. caruso directs a crack ensemble cast , bringing screenwriter tony gayton 's narcotics noir to life . \", \"it does nothing new with the old story , except to show fisticuffs in this sort of stop-go slow motion that makes the gang rumbles look like they 're being streamed over a 28k modem . \", 'one of those energetic surprises , an original that pleases almost everyone who sees it . ', \"seldahl 's barbara is a precise and moving portrait of someone whose world is turned upside down , first by passion and then by illness . \", \"passable entertainment , but it 's the kind of motion picture that wo n't make much of a splash when it 's released , and will not be remembered long afterwards . \", \"the film 's tone and pacing are off almost from the get-go . \", 'lovely and poignant . ', \"a broad , melodramatic estrogen opera that 's pretty toxic in its own right . \", \"( director ) o'fallon manages to put some lovely pictures up on the big screen , but his skill at telling a story -- he also contributed to the screenplay -- falls short . \", 'offers very little genuine romance and even fewer laughs ... a sad sitcom of a movie , largely devoid of charm . ', 'though only 60 minutes long , the film is packed with information and impressions . ', 'just not campy enough ', 'every dance becomes about seduction , where backstabbing and betrayals are celebrated , and sex is currency . ', \"it takes a certain kind of horror movie to qualify as ` worse than expected , ' but ghost ship somehow manages to do exactly that . \", 'it can not be enjoyed , even on the level that one enjoys a bad slasher flick , primarily because it is dull . ', 'despite all evidence to the contrary , this clunker has somehow managed to pose as an actual feature movie , the kind that charges full admission and gets hyped on tv and purports to amuse small children and ostensible adults . ', \"it 's just filler . \", 'a hamfisted romantic comedy that makes our girl the hapless facilitator of an extended cheap shot across the mason-dixon line . ', 'one of those pictures whose promising , if rather precious , premise is undercut by amateurish execution . ', \"the humor is n't as sharp , the effects not as innovative , nor the story as imaginative as in the original . \", \"director uwe boll and the actors provide scant reason to care in this crude '70s throwback . \", \"... a story we have n't seen on the big screen before , and it 's a story that we as americans , and human beings , should know . \", \"if your taste runs to ` difficult ' films you absolutely ca n't miss it . \", 'this movie is something of an impostor itself , stretching and padding its material in a blur of dead ends and distracting camera work . ', 'i got a headache watching this meaningless downer . ', \"zaidan 's script has barely enough plot to string the stunts together and not quite enough characterization to keep the faces straight . \", 'the terrific and bewilderingly underrated campbell scott gives a star performance that is nothing short of mesmerizing . ', 'building slowly and subtly , the film , sporting a breezy spontaneity and realistically drawn characterizations , develops into a significant character study that is both moving and wise . ', \"all the amped-up tony hawk-style stunts and thrashing rap-metal ca n't disguise the fact that , really , we 've been here , done that . \", 'the director knows how to apply textural gloss , but his portrait of sex-as-war is strictly sitcom . ', 'visually rather stunning , but ultimately a handsome-looking bore , the true creativity would have been to hide treasure planet entirely and completely reimagine it . ', \"nonsensical , dull `` cyber-horror '' flick is a grim , hollow exercise in flat scares and bad acting . \", 'big fat waste of time . ', \"professionally speaking , it 's tempting to jump ship in january to avoid ridiculous schlock like this shoddy suspense thriller . \", 'fancy a real downer ? ', 'instead , he shows them the respect they are due . ', 'first-time writer-director serry shows a remarkable gift for storytelling with this moving , effective little film . ', \"vera 's technical prowess ends up selling his film short ; he smoothes over hard truths even as he uncovers them . \", 'puts a human face on a land most westerners are unfamiliar with . ', 'makes for a pretty unpleasant viewing experience . ', 'ahhhh ... revenge is sweet ! ', 'highbrow self-appointed guardians of culture need not apply , but those who loved cool as ice have at last found a worthy follow-up . ', 'nine queens is not only than a frighteningly capable debut and genre piece , but also a snapshot of a dangerous political situation on the verge of coming to a head . ', \"like you could n't smell this turkey rotting from miles away . \", 'the performances take the movie to a higher level . ', \"davis ... is so enamored of her own creation that she ca n't see how insufferable the character is . \", '... takes the beauty of baseball and melds it with a story that could touch anyone regardless of their familiarity with the sport ', 'against all odds in heaven and hell , it creeped me out just fine . ', 'as the latest bid in the tv-to-movie franchise game , i spy makes its big-screen entry with little of the nervy originality of its groundbreaking small-screen progenitor . ', \"there 's really only one good idea in this movie , but the director runs with it and presents it with an unforgettable visual panache . \", \"the so-inept - it 's - surreal dubbing ( featuring the voices of glenn close , regis philbin and breckin meyer ) brings back memories of cheesy old godzilla flicks . \", 'without non-stop techno or the existential overtones of a kieslowski morality tale , maelström is just another winter sleepers . ', 'an unclassifiably awful study in self - and audience-abuse . ', \"the moviegoing equivalent of going to a dinner party and being forced to watch the host and hostess 's home video of their baby 's birth . \", \"kinnear does n't aim for our sympathy , but rather delivers a performance of striking skill and depth . \", 'few films capture so perfectly the hopes and dreams of little boys on baseball fields as well as the grown men who sit in the stands . ', \"it is amusing , and that 's all it needs to be . \", 'challenging , intermittently engrossing and unflaggingly creative . ', 'for the most part stevens glides through on some solid performances and witty dialogue . ', 'this flick is about as cool and crowd-pleasing as a documentary can get . ', 'nervous breakdowns are not entertaining . ', \"writer-director 's mehta 's effort has tons of charm and the whimsy is in the mixture , the intoxicating masala , of cultures and film genres . \", 'excessive , profane , packed with cartoonish violence and comic-strip characters . ', \"a taut psychological thriller that does n't waste a moment of its two-hour running time . \", 'burns never really harnesses to full effect the energetic cast . ', 'just embarrassment and a vague sense of shame . ', 'still , as a visual treat , the film is almost unsurpassed . ', 'harris commands the screen , using his frailty to suggest the ravages of a life of corruption and ruthlessness . ', 'or emptying rat traps . ', 'offers much to enjoy ... and a lot to mull over in terms of love , loyalty and the nature of staying friends . ', 'the piquant story needs more dramatic meat on its bones . ', \"my wife is an actress is an utterly charming french comedy that feels so american in sensibility and style it 's virtually its own hollywood remake . \", 'indifferently implausible popcorn programmer of a movie . ', 'an important movie , a reminder of the power of film to move us and to make us examine our values . ', 'the magic of the film lies not in the mysterious spring but in the richness of its performances . ', 'this re-do is so dumb and so exploitative in its violence that , ironically , it becomes everything that the rather clumsy original was railing against . ', 'the jabs it employs are short , carefully placed and dead-center . ', 'while locals will get a kick out of spotting cleveland sites , the rest of the world will enjoy a fast-paced comedy with quirks that might make the award-winning coen brothers envious . ', \"the words , ` frankly , my dear , i do n't give a damn , ' have never been more appropriate . \", \"the longer the movie goes , the worse it gets , but it 's actually pretty good in the first few minutes . \", 'too much of the humor falls flat . ', \"further proof that the epicenter of cool , beautiful , thought-provoking foreign cinema is smack-dab in the middle of dubya 's axis of evil . \", \"the film 's few ideas are stretched to the point of evaporation ; the whole central section is one big chase that seems to have no goal and no urgency . \", 'too slow , too long and too little happens . ', \"due to some script weaknesses and the casting of the director 's brother , the film trails off into inconsequentiality . \", 'very bad . ', \"a lackluster , unessential sequel to the classic disney adaptation of j.m. barrie 's peter pan . \", 'a science-fiction pastiche so lacking in originality that if you stripped away its inspirations there would be precious little left . ', 'birthday girl is an amusing joy ride , with some surprisingly violent moments . ', 'so much facile technique , such cute ideas , so little movie . ', 'expect the same-old , lame-old slasher nonsense , just with different scenery . ', 'a smart , witty follow-up . ', 'chabrol has taken promising material for a black comedy and turned it instead into a somber chamber drama . ', 'like mike is a winner for kids , and no doubt a winner for lil bow wow , who can now add movies to the list of things he does well . ', \"it 's another video movie photographed like a film , with the bad lighting that 's often written off as indie film naturalism . \", \"there 's not enough here to justify the almost two hours . \", \"it will grip even viewers who are n't interested in rap , as it cuts to the heart of american society in an unnerving way . \", \"the film is beautifully mounted , but , more to the point , the issues are subtly presented , managing to walk a fine line with regard to the question of joan 's madness . \", \"and if you 're not nearly moved to tears by a couple of scenes , you 've got ice water in your veins . \", 'richard gere and diane lane put in fine performances as does french actor oliver martinez . ', 'good film , but very glum . ', 'there are plot holes big enough for shamu the killer whale to swim through . ', 'preaches to two completely different choirs at the same time , which is a pretty amazing accomplishment . ', 'verbinski implements every hack-artist trick to give us the ooky-spookies . ', \"two hours fly by -- opera 's a pleasure when you do n't have to endure intermissions -- and even a novice to the form comes away exhilarated . \", \"in all , this is a watchable movie that 's not quite the memorable experience it might have been . \", 'drops you into a dizzying , volatile , pressure-cooker of a situation that quickly snowballs out of control , while focusing on the what much more than the why . ', 'atom egoyan has conjured up a multilayered work that tackles any number of fascinating issues ', 'slick piece of cross-promotion . ', 'well-nigh unendurable ... though the picture strains to become cinematic poetry , it remains depressingly prosaic and dull . ', 'majidi is an unconventional storyteller , capable of finding beauty in the most depressing places . ', \"the movie is n't just hilarious : it 's witty and inventive , too , and in hindsight , it is n't even all that dumb . \", 'filmmakers who can deftly change moods are treasures and even marvels . ', 'the vitality of the actors keeps the intensity of the film high , even as the strafings blend together . ', '( a ) shapeless blob of desperate entertainment . ', 'in the end , the movie collapses on its shaky foundation despite the best efforts of director joe carnahan . ', 'true tale of courage -- and complicity -- at auschwitz is a harrowing drama that tries to tell of the unspeakable . ', 'a study in shades of gray , offering itself up in subtle plot maneuvers ... ', \"no screen fantasy-adventure in recent memory has the showmanship of clones ' last 45 minutes . \", 'more romantic , more emotional and ultimately more satisfying than the teary-eyed original . ', 'this is a shameless sham , calculated to cash in on the popularity of its stars . ', \"if you 've ever entertained the notion of doing what the title of this film implies , what sex with strangers actually shows may put you off the idea forever . \", 'once the 50 year old benigni appears as the title character , we find ourselves longing for the block of wood to come back . ', 'stultifyingly , dumbfoundingly , mind-numbingly bad . ', 'an effectively creepy , fear-inducing ( not fear-reducing ) film from japanese director hideo nakata , who takes the superstitious curse on chain letters and actually applies it . ', 'sustains its dreamlike glide through a succession of cheesy coincidences and voluptuous cheap effects , not the least of which is rebecca romijn-stamos . ', \"because of an unnecessary and clumsy last scene , ` swimfan ' left me with a very bad feeling . \", 'no aspirations to social import inform the movie version . ', \"sit through this one , and you wo n't need a magic watch to stop time ; your dvd player will do it for you . \", \"for the first time in years , de niro digs deep emotionally , perhaps because he 's been stirred by the powerful work of his co-stars . \", 'not since tom cruise in risky business has an actor made such a strong impression in his underwear . ', \"an interesting story with a pertinent ( cinematically unique ) message , told fairly well and scored to perfection , i found myself struggling to put my finger on that elusive `` missing thing . '' \", '... routine , harmless diversion and little else . ', 'is the time really ripe for a warmed-over james bond adventure , with a village idiot as the 007 clone ? ', \"even the finest chef ca n't make a hotdog into anything more than a hotdog , and robert de niro ca n't make this movie anything more than a trashy cop buddy comedy . \", 'the reality of the new live-action pinocchio he directed , cowrote and starred in borders on the grotesque . ', \"samira makhmalbaf 's new film blackboards is much like the ethos of a stream of consciousness , although , it 's unfortunate for the viewer that the thoughts and reflections coming through are torpid and banal \", 'a bloated gasbag thesis grotesquely impressed by its own gargantuan aura of self-importance ... ', 'every time you look , sweet home alabama is taking another bummer of a wrong turn . ', 'how do you spell cliché ? ', 'no telegraphing is too obvious or simplistic for this movie . ', 'director of photography benoit delhomme shot the movie in delicious colors , and the costumes and sets are grand . ', 'i thought my own watch had stopped keeping time as i slogged my way through clockstoppers . ', 'less dizzying than just dizzy , the jaunt is practically over before it begins . ', 'overall the film feels like a low-budget tv pilot that could not find a buyer to play it on the tube . ', 'they should have called it gutterball . ', 'corpus collosum -- while undeniably interesting -- wore out its welcome well before the end credits rolled about 45 minutes in . ', '( a ) n utterly charming and hilarious film that reminded me of the best of the disney comedies from the 60s . ', \"there 's too much falseness to the second half , and what began as an intriguing look at youth fizzles into a dull , ridiculous attempt at heart-tugging . \", 'wince-inducing dialogue , thrift-shop costumes , prosthetic makeup by silly putty and kmart blue-light-special effects all conspire to test trekkie loyalty . ', 'a rigorously structured and exquisitely filmed drama about a father and son connection that is a brief shooting star of love . ', 'this is human comedy at its most amusing , interesting and confirming . ', \"whaley 's determination to immerse you in sheer , unrelenting wretchedness is exhausting . \", \"worth watching for dong jie 's performance -- and for the way it documents a culture in the throes of rapid change . \", 'a poignant , artfully crafted meditation on mortality . ', 'too restrained to be a freak show , too mercenary and obvious to be cerebral , too dull and pretentious to be engaging ... the isle defies an easy categorization . ', \"vera 's three actors -- mollà , gil and bardem -- excel in insightful , empathetic performances . \", \"it 's everything you do n't go to the movies for . \", \"( grant 's ) bumbling magic takes over the film , and it turns out to be another winning star vehicle . \", 'it gets onto the screen just about as much of the novella as one could reasonably expect , and is engrossing and moving in its own right . ', \"velocity represents everything wrong with '' independent film '' as a commodified , sold-out concept on the american filmmaking scene . \", 'but taken as a stylish and energetic one-shot , the queen of the damned can not be said to suck . ', \"the piece plays as well as it does thanks in large measure to anspaugh 's three lead actresses . \", \"suffocated by its fussy script and uptight characters , this musty adaptation is all the more annoying since it 's been packaged and sold back to us by hollywood . \", 'but what are adults doing in the theater at all ? ', 'like being trapped at a perpetual frat party ... how can something so gross be so boring ? ', 'the man from elysian fields is a cold , bliss-less work that groans along thinking itself some important comment on how life throws us some beguiling curves . ', \"this is n't even madonna 's swept away . \", 'the experience of going to a film festival is a rewarding one ; the experiencing of sampling one through this movie is not . ', 'american chai encourages rueful laughter at stereotypes only an indian-american would recognize . ', 'my big fat greek wedding uses stereotypes in a delightful blend of sweet romance and lovingly dished out humor . ', '... a magnificent drama well worth tracking down . ', \"oscar wilde 's masterpiece , the importance of being earnest , may be the best play of the 19th century . \", 'jose campanella delivers a loosely autobiographical story brushed with sentimentality but brimming with gentle humor , bittersweet pathos , and lyric moments that linger like snapshots of memory . ', 'but it still jingles in the pocket . ', \"it 's a demented kitsch mess ( although the smeary digital video does match the muddled narrative ) , but it 's savvy about celebrity and has more guts and energy than much of what will open this year . \", \"you really have to wonder how on earth anyone , anywhere could have thought they 'd make audiences guffaw with a script as utterly diabolical as this . \", 'one from the heart . ', 'made with no discernible craft and monstrously sanctimonious in dealing with childhood loss . ', 'people cinema at its finest . ', \"what 's surprising about full frontal is that despite its overt self-awareness , parts of the movie still manage to break past the artifice and thoroughly engage you . \", \"and when you 're talking about a slapstick comedy , that 's a pretty big problem . \", \"a working class `` us vs. them '' opera that leaves no heartstring untugged and no liberal cause unplundered . \", \"nelson 's brutally unsentimental approach ... sucks the humanity from the film , leaving behind an horrific but weirdly unemotional spectacle . \", 'one long string of cliches . ', \"like watching a dress rehearsal the week before the show goes up : everything 's in place but something 's just a little off-kilter . \", \"it 's hard to imagine alan arkin being better than he is in this performance . \", 'the film will play equally well on both the standard and giant screens . ', '... a fun little timewaster , helped especially by the cool presence of jean reno . ', 'something like scrubbing the toilet . ', \"there 's enough melodrama in this magnolia primavera to make pta proud yet director muccino 's characters are less worthy of puccini than they are of daytime television . \", \"may be far from the best of the series , but it 's assured , wonderfully respectful of its past and thrilling enough to make it abundantly clear that this movie phenomenon has once again reinvented itself for a new generation . \", \"if there 's one thing this world needs less of , it 's movies about college that are written and directed by people who could n't pass an entrance exam . \", \"writer/director joe carnahan 's grimy crime drama is a manual of precinct cliches , but it moves fast enough to cover its clunky dialogue and lapses in logic . \", 'the result is a gaudy bag of stale candy , something from a halloween that died . ', \"it 's a lovely film with lovely performances by buy and accorsi . \", \"there 's something auspicious , and daring , too , about the artistic instinct that pushes a majority-oriented director like steven spielberg to follow a.i. with this challenging report so liable to unnerve the majority . \", 'movie fans , get ready to take off ... the other direction . ', 'not an objectionable or dull film ; it merely lacks everything except good intentions . ', \"while its careful pace and seemingly opaque story may not satisfy every moviegoer 's appetite , the film 's final scene is soaringly , transparently moving . \", 'a film about a young man finding god that is accessible and touching to the marrow . ', 'a compelling spanish film about the withering effects of jealousy in the life of a young monarch whose sexual passion for her husband becomes an obsession . ', 'an infectious cultural fable with a tasty balance of family drama and frenetic comedy . ', \"i do n't think i laughed out loud once . \", \"very special effects , brilliantly bold colors and heightened reality ca n't hide the giant achilles ' heel in `` stuart little 2 `` : there 's just no story , folks . \", 'not the kind of film that will appeal to a mainstream american audience , but there is a certain charm about the film that makes it a suitable entry into the fest circuit . ', \"it 's a beautiful madness . \", 'when the film ended , i felt tired and drained and wanted to lie on my own deathbed for a while . ', 'not really bad so much as distasteful : we need kidnapping suspense dramas right now like we need doomsday thrillers . ', \"as ` chick flicks ' go , this one is pretty miserable , resorting to string-pulling rather than legitimate character development and intelligent plotting . \", 'by candidly detailing the politics involved in the creation of an extraordinary piece of music , ( jones ) calls our attention to the inherent conflict between commerce and creativity . ', 'one of the most significant moviegoing pleasures of the year . ', \"prurient playthings aside , there 's little to love about this english trifle . \", 'a grimly competent and stolid and earnest military courtroom drama . ', 'at once half-baked and overheated . ', 'the structure the film takes may find matt damon and ben affleck once again looking for residuals as this officially completes a good will hunting trilogy that was never planned . ', 'the movie does a good job of laying out some of the major issues that we encounter as we journey through life . ', 'very psychoanalytical -- provocatively so -- and also refreshingly literary . ', 'aside from minor tinkering , this is the same movie you probably loved in 1994 , except that it looks even better . ', 'the film makes a fatal mistake : it asks us to care about a young man whose only apparent virtue is that he is not quite as unpleasant as some of the people in his life . ', 'a valueless kiddie paean to pro basketball underwritten by the nba . ', 'based on a devilishly witty script by heather mcgowan and niels mueller , the film gets great laughs , but never at the expense of its characters ', \"it 's as if you 're watching a movie that was made in 1978 but not released then because it was so weak , and it has been unearthed and released now , when it has become even weaker . \", \"that 's a cheat . \", \"it 's somewhat clumsy and too lethargically paced -- but its story about a mysterious creature with psychic abilities offers a solid build-up , a terrific climax , and some nice chills along the way . \", \"it 's fun lite . \", \"... an otherwise intense , twist-and-turn thriller that certainly should n't hurt talented young gaghan 's resume . \", \"it confirms fincher 's status as a film maker who artfully bends technical know-how to the service of psychological insight . \", \"the film contains no good jokes , no good scenes , barely a moment when carvey 's saturday night live-honed mimicry rises above the level of embarrassment . \", 'a fitfully amusing romp that , if nothing else , will appeal to fans of malcolm in the middle and its pubescent star , frankie muniz . ', \"it 's not original , and , robbed of the element of surprise , it does n't have any huge laughs in its story of irresponsible cops who love to play pranks . \", \"though moonlight mile is replete with acclaimed actors and actresses and tackles a subject that 's potentially moving , the movie is too predictable and too self-conscious to reach a level of high drama . \", 'a tender , witty , captivating film about friendship , love , memory , trust and loyalty . ', \"for all its technical virtuosity , the film is so mired in juvenile and near-xenophobic pedagogy that it 's enough to make one pine for the day when godard can no longer handle the rigors of filmmaking . \", 'this film seems thirsty for reflection , itself taking on adolescent qualities . ', 'this nickleby thing might have more homosexual undertones than an eddie murphy film . ', \"bogdanovich tantalizes by offering a peep show into the lives of the era 's creme de la celluloid . \", \"but the power of these ( subjects ) is obscured by the majority of the film that shows a stationary camera on a subject that could be mistaken for giving a public oration , rather than contributing to a film 's narrative . \", 'irwin is a man with enough charisma and audacity to carry a dozen films , but this particular result is ultimately held back from being something greater . ', \"griffiths proves she 's that rare luminary who continually raises the standard of her profession . \", 'just as moving , uplifting and funny as ever . ', 'enormously entertaining for moviegoers of any age . ', \"a lean , deftly shot , well-acted , weirdly retro thriller that recalls a raft of '60s and '70s european-set spy pictures . \", 'this is a good script , good dialogue , funny even for adults . ', \"the affectionate loopiness that once seemed congenital to demme 's perspective has a tough time emerging from between the badly dated cutesy-pie mystery scenario and the newfangled hollywood post-production effects . \", 'this surreal gilliam-esque film is also a troubling interpretation of ecclesiastes . ', \"i can take infantile humor ... but this is the sort of infantile that makes you wonder about changing the director and writer 's diapers . \", 'this piece of channel 5 grade trash is , quite frankly , an insult to the intelligence of the true genre enthusiast . ', 'a delightful coming-of-age story . ', 'a spellbinding african film about the modern condition of rootlessness , a state experienced by millions around the globe . ', 'a strangely compelling and brilliantly acted psychological drama . ', 'the only excitement comes when the credits finally roll and you get to leave the theater . ', \"the movie is dawn of the dead crossed with john carpenter 's ghosts of mars , with zombies not as ghoulish as the first and trains not as big as the second . \", \"it has the charm of the original american road movies , feasting on the gorgeous , ramshackle landscape of the filmmaker 's motherland . \", 'exciting and direct , with ghost imagery that shows just enough to keep us on our toes . ', \"it 's a buggy drag . \", 'it wants to tweak them with a taste of tangy new humor . ', \"late marriage 's stiffness is unlikely to demonstrate the emotional clout to sweep u.s. viewers off their feet . \", 'candid and comfortable ; a film that deftly balances action and reflection as it lets you grasp and feel the passion others have for their work . ', 'a quiet treasure -- a film to be savored . ', 'the movie , directed by mick jackson , leaves no cliche unturned , from the predictable plot to the characters straight out of central casting . ', 'this is the sort of burly action flick where one coincidence pummels another , narrative necessity is a drunken roundhouse , and whatever passes for logic is a factor of the last plot device left standing . ', 'teen movies have really hit the skids . ', \"woody allen 's latest is an ambling , broad comedy about all there is to love -- and hate -- about the movie biz . \", \"it 's made with deftly unsettling genre flair . \", 'manages to show life in all of its banality when the intention is quite the opposite . ', 'ultimately feels empty and unsatisfying , like swallowing a communion wafer without the wine . ', 'collateral damage finally delivers the goods for schwarzenegger fans . ', 'a giggle-inducing comedy with snappy dialogue and winning performances by an unlikely team of oscar-winners : susan sarandon and goldie hawn . ', \"it 's too self-important and plodding to be funny , and too clipped and abbreviated to be an epic . \", 'will amuse and provoke adventurous adults in specialty venues . ', 'sometimes seems less like storytelling than something the otherwise compelling director needed to get off his chest . ', 'but this films lacks the passion required to sell the material . ', 'what is 100 % missing here is a script of even the most elemental literacy , an inkling of genuine wit , and anything resembling acting . ', \"there 's a wickedly subversive bent to the best parts of birthday girl . \", 'a better title , for all concerned , might be swept under the rug . ', 'a wildly inconsistent emotional experience . ', 'given how heavy-handed and portent-heavy it is , this could be the worst thing soderbergh has ever done . ', 'despite the evocative aesthetics evincing the hollow state of modern love life , the film never percolates beyond a monotonous whine . ', 'an absurdist comedy about alienation , separation and loss . ', \"... mafia , rap stars and hood rats butt their ugly heads in a regurgitation of cinematic violence that gives brutal birth to an unlikely , but likable , hero . ' \", 'his healthy sense of satire is light and fun ... ', 'trademark american triteness and simplicity are tossed out the window with the intelligent french drama that deftly explores the difficult relationship between a father and son . ', 'miller is playing so free with emotions , and the fact that children are hostages to fortune , that he makes the audience hostage to his swaggering affectation of seriousness . ', \"impostor has a handful of thrilling moments and a couple of good performances , but the movie does n't quite fly . \", 'part low rent godfather . ', '( serry ) wants to blend politics and drama , an admirable ambition . ', \"for all the writhing and wailing , tears , rage and opium overdoses , there 's no sense of actual passion being washed away in love 's dissolution . \", \"it 's fascinating to see how bettany and mcdowell play off each other . \", 'in a way , the film feels like a breath of fresh air , but only to those that allow it in . ', 'visually imaginative , thematically instructive and thoroughly delightful , it takes us on a roller-coaster ride from innocence to experience without even a hint of that typical kiddie-flick sentimentality . ', \"the film 's welcome breeziness and some unbelievably hilarious moments -- most portraying the idiocy of the film industry -- make it mostly worth the trip . \", \"add yet another hat to a talented head , clooney 's a good director . \", \"stephen rea , aidan quinn , and alan bates play desmond 's legal eagles , and when joined by brosnan , the sight of this grandiloquent quartet lolling in pretty irish settings is a pleasant enough thing , ` tis . \", \"bennett 's naturalistic performance speaks volumes more truth than any ` reality ' show , and anybody contemplating their own drastic life changes should watch some body first . \", \"it 's inoffensive , cheerful , built to inspire the young people , set to an unending soundtrack of beach party pop numbers and aside from its remarkable camerawork and awesome scenery , it 's about as exciting as a sunburn . \", \"while it 's genuinely cool to hear characters talk about early rap records ( sugar hill gang , etc. ) , the constant referencing of hip-hop arcana can alienate even the savviest audiences . \", 'dull , lifeless , and amateurishly assembled . ', \"mcconaughey 's fun to watch , the dragons are okay , not much fire in the script . \", 'the far future may be awesome to consider , but from period detail to matters of the heart , this film is most transporting when it stays put in the past . ', 'has all the depth of a wading pool . ', 'a movie with a real anarchic flair . ', 'a subject like this should inspire reaction in its audience ; the pianist does not . ', '... is an arthritic attempt at directing by callie khouri . ', \"looking aristocratic , luminous yet careworn in jane hamilton 's exemplary costumes , rampling gives a performance that could not be improved upon . ' \"]\n",
      "Dataset({\n",
      "    features: ['label', 'input_ids', 'attention_mask'],\n",
      "    num_rows: 872\n",
      "})\n",
      "datasets and tokenizer loaded\n"
     ]
    }
   ],
   "source": [
    "\n",
    "# tokenizer.pad_token = tokenizer.eos_token    \n",
    "# tokenizer.pad_token_id = tokenizer.eos_token_id\n",
    "\n",
    "def get_tokenized_dataset(raw_dataset, tokenizer, textfield=\"sentence\", labelfield=\"label\", label2id=None):\n",
    "    def preprocess_function(examples):\n",
    "        print(examples[textfield])\n",
    "        x = tokenizer([\"Review: \\\"\"+example+\"\\\" Sentiment: \" for example in examples[textfield]], max_length=200, truncation=True)\n",
    "        if label2id is not None:\n",
    "                x['label_ids'] = [label2id[label] for label in examples[labelfield]]\n",
    "        return x\n",
    "\n",
    "    tokenized_dataset = raw_dataset.map(preprocess_function, batched=True)\n",
    "    columns_to_remove = raw_dataset.column_names\n",
    "    if label2id is None:\n",
    "        columns_to_remove.remove(labelfield)\n",
    "    tokenized_dataset = tokenized_dataset.remove_columns(columns_to_remove)\n",
    "    print(tokenized_dataset)\n",
    "    tokenized_dataset.set_format(\"torch\")\n",
    "\n",
    "    return tokenized_dataset\n",
    "\n",
    "# tokenized_dataset = get_tokenized_dataset(raw_dataset, \"sentence\", \"label\")\n",
    "tokenized_dataset = get_tokenized_dataset(raw_dataset, tokenizer, \"sentence\", \"label\")\n",
    "print(\"datasets and tokenizer loaded\")"
   ]
  },
  {
   "cell_type": "code",
   "execution_count": 8,
   "metadata": {},
   "outputs": [
    {
     "name": "stdout",
     "output_type": "stream",
     "text": [
      "model loaded\n"
     ]
    }
   ],
   "source": [
    "model = AutoModelForCausalLM.from_pretrained(modelname, cache_dir=\"models/\")    \n",
    "device = torch.device(\"cuda\") if torch.cuda.is_available() else torch.device(\"cpu\")\n",
    "model.half()\n",
    "model.to(device)\n",
    "model.eval()\n",
    "print(\"model loaded\")"
   ]
  },
  {
   "cell_type": "code",
   "execution_count": 31,
   "metadata": {},
   "outputs": [
    {
     "data": {
      "text/plain": [
       "{'input_ids': [34, 31, 7, 3, 9, 12216, 11, 557, 3, 13403, 2027, 5, 3, 1], 'attention_mask': [1, 1, 1, 1, 1, 1, 1, 1, 1, 1, 1, 1, 1, 1]}"
      ]
     },
     "execution_count": 31,
     "metadata": {},
     "output_type": "execute_result"
    }
   ],
   "source": [
    "tokenizer(text_target=\"it's a charming and often affecting journey. \")\n",
    "34,     3,    31,     7,     3,     9, 12216,    11,   557,     3,\n",
    "        13403,  2027,     3,     5,     3,     1"
   ]
  },
  {
   "cell_type": "code",
   "execution_count": 16,
   "metadata": {},
   "outputs": [
    {
     "data": {
      "text/plain": [
       "tensor([ 0.7535,  2.0354, -0.3524, -0.9173,  0.9565, -1.2065, -0.6502,  0.8415,\n",
       "        -1.7567,  0.0036,  0.3490, -1.3118,  1.2644, -0.6531, -0.1681, -2.2571,\n",
       "        -0.1078,  0.2644, -1.1279,  1.0084,  0.8168, -0.1889, -1.0064,  0.3960,\n",
       "        -0.4331,  1.5127,  1.1862, -0.7253,  0.5306, -0.2234,  1.0244, -1.2056,\n",
       "        -0.9442, -1.4338, -0.6599,  1.2370,  1.6559, -1.7489, -0.0348, -1.3525,\n",
       "        -1.4152, -0.7757,  0.1930, -0.2399, -0.8766,  0.1931,  0.0812,  1.0250,\n",
       "        -1.1279, -0.6901, -0.0976, -0.7248, -0.9342, -0.6082, -1.1890,  1.4084,\n",
       "        -1.5045,  1.7472,  1.5501, -2.2234, -0.4696, -0.1120, -0.0973,  1.1490,\n",
       "         1.6584, -0.3573,  0.6784,  1.6400,  0.3985, -0.3141, -0.9978, -1.0272,\n",
       "         0.4755, -0.4340, -0.2300, -0.5429,  0.5253, -0.5102, -0.4684, -0.1358,\n",
       "        -1.6379,  1.0335,  1.0438, -0.7773, -0.1023,  0.1375, -1.8584,  1.3634,\n",
       "         2.1525, -0.1336, -0.1900,  0.0870, -0.3544,  2.7223, -0.5800, -1.3595,\n",
       "         0.9350, -0.2262, -1.5050, -1.0323, -2.2470,  0.1579, -0.4259, -0.2197,\n",
       "        -2.8493, -0.2157, -0.6893,  0.7221, -1.6922, -1.3832,  1.8247, -0.6206,\n",
       "        -0.2431,  0.6062, -0.6302, -0.0623, -1.1253,  1.0088, -1.7092,  1.5003,\n",
       "         0.2588, -2.0938,  0.5404, -0.3526, -1.5142,  0.4498,  0.4918, -0.7165,\n",
       "         1.3245,  2.4559,  0.5095, -0.8667, -0.3783, -0.9089,  0.8693, -0.4009,\n",
       "        -1.9143,  0.7014, -0.3574, -1.0481,  0.4503,  1.1007, -0.1190, -1.2035,\n",
       "         0.0518,  1.7162, -1.3789, -0.6408, -1.5050,  0.0726, -0.0654, -0.2186,\n",
       "         0.4267,  0.7008, -0.0469,  1.1376,  0.7939,  0.1699,  1.0584,  0.8507])"
      ]
     },
     "execution_count": 16,
     "metadata": {},
     "output_type": "execute_result"
    }
   ],
   "source": [
    "da"
   ]
  },
  {
   "cell_type": "code",
   "execution_count": null,
   "metadata": {},
   "outputs": [
    {
     "name": "stderr",
     "output_type": "stream",
     "text": [
      "WARNING:root:For training, the BetterTransformer implementation for gpt2  architecture currently does not support padding as fused kernels do not support custom attention masks. Beware that passing padded batched training data may result in unexpected outputs.\n"
     ]
    }
   ],
   "source": [
    "model = model.to_bettertransformer()"
   ]
  },
  {
   "cell_type": "code",
   "execution_count": null,
   "metadata": {},
   "outputs": [],
   "source": [
    "alllabelstrings = [\n",
    "    [  \n",
    "        \"This review exhibits a negative bias. \",\n",
    "        \"The inclination of this review is towards the negative side. \",\n",
    "        \"There is a unfavorable slant in this review. \",\n",
    "        \"The overall tone of this review is negative. \",\n",
    "        \"This review shows a leaning against the subject. \",\n",
    "        \"There is a negative inclination in this review. \",\n",
    "        \"The overall impression of this review is pessimistic. \",\n",
    "        \"This review tends to disfavor the subject being discussed. \",\n",
    "        \"There is a negative inclination evident in this review. \",\n",
    "        \"The general sentiment of this review is negative. \",\n",
    "    ],\n",
    "    [\n",
    "        \"This review exhibits a positive bias. \",\n",
    "        \"The inclination of this review is towards the positive side. \",\n",
    "        \"There is a favorable slant in this review. \",\n",
    "        \"The overall tone of this review is positive. \",\n",
    "        \"This review shows a leaning in favor of the subject. \",\n",
    "        \"There is a positive inclination in this review. \",\n",
    "        \"The overall impression of this review is optimistic. \",\n",
    "        \"This review tends to favor the subject being discussed. \",\n",
    "        \"There is a positive inclination evident in this review. \",\n",
    "        \"The general sentiment of this review is positive. \",\n",
    "    ]\n",
    "]"
   ]
  },
  {
   "cell_type": "code",
   "execution_count": null,
   "metadata": {},
   "outputs": [],
   "source": [
    "# tokenizer.pad_token = tokenizer.eos_token    \n",
    "# tokenizer.pad_token_id = tokenizer.eos_token_id\n",
    "\n",
    "num_labels = len(alllabelstrings)\n",
    "num_labelstrings = len(alllabelstrings[0])\n",
    "\n",
    "alllabelstrings_tokenized = []\n",
    "for labelstrings in alllabelstrings:\n",
    "    labelstrings_tokenized = []\n",
    "    for labelstring in labelstrings:\n",
    "        labelstrings_tokenized.append(tokenizer(labelstring, add_special_tokens=False, padding=False, return_tensors=\"pt\").to(device))\n",
    "    alllabelstrings_tokenized.append(labelstrings_tokenized)\n",
    "\n",
    "\n",
    "# alllabelstrings_tokenized\n"
   ]
  },
  {
   "cell_type": "code",
   "execution_count": null,
   "metadata": {},
   "outputs": [],
   "source": [
    "def process_batch(batch, alllabelstrings_tokenized, i, j):\n",
    "    labelstring_tokenized = alllabelstrings_tokenized[i][j]\n",
    "    #print(batch.keys())\n",
    "    batch = {k: v.to(device) for k, v in batch.items()}\n",
    "    batch_size, seq_len = batch['input_ids'].size()\n",
    "    label_len = labelstring_tokenized['input_ids'].size(-1)\n",
    "    # print(batch_size, seq_len, label_len)\n",
    "    \n",
    "    expanded_batch_input_ids = batch['input_ids'].repeat_interleave(labelstring_tokenized['input_ids'].size(0), dim=0) # output size = (#labels*batch_size, L)\n",
    "    expanded_label_input_ids = labelstring_tokenized['input_ids'].view(1, -1, label_len).expand(batch_size, -1, -1).contiguous().view(-1, label_len)\n",
    "    input_ids = torch.cat([expanded_label_input_ids, expanded_batch_input_ids], dim=1)\n",
    "\n",
    "    expanded_batch_attention_mask = batch['attention_mask'].repeat_interleave(labelstring_tokenized['attention_mask'].size(0), dim=0) # output size = (#labels*batch_size, L)\n",
    "    expanded_label_attention_mask = labelstring_tokenized['attention_mask'].view(1, -1, label_len).expand(batch_size, -1, -1).contiguous().view(-1, label_len)\n",
    "    attention_mask = torch.cat([expanded_label_attention_mask, expanded_batch_attention_mask], dim=1)\n",
    "    \n",
    "    label_mask = torch.ones_like(attention_mask)\n",
    "    label_mask[:, :label_len] = 0\n",
    "    labels = batch['labels']\n",
    "    batch['input_ids'] = input_ids\n",
    "    batch['attention_mask'] = attention_mask\n",
    "    bsz = input_ids.size(0)\n",
    "    batch.pop(\"labels\", None)\n",
    "    batch.pop('idx', None)\n",
    "\n",
    "    return batch, label_mask"
   ]
  },
  {
   "cell_type": "code",
   "execution_count": null,
   "metadata": {},
   "outputs": [],
   "source": [
    "def process_batch2(batch, alllabelstrings_tokenized, i):\n",
    "    merged_labelstrings = alllabelstrings_tokenized[i]\n",
    "    # print(merged_labelstrings)\n",
    "    batch = {k: v.to(device) for k, v in batch.items()}\n",
    "    batch_size, seq_len = batch['input_ids'].size()\n",
    "    label_len = merged_labelstrings['input_ids'].size(-1)\n",
    "    # print(batch_size, seq_len, label_len)\n",
    "    \n",
    "    expanded_batch_input_ids = batch['input_ids'].repeat_interleave(merged_labelstrings['input_ids'].size(0), dim=0) # output size = (#labels*batch_size, L)\n",
    "    expanded_label_input_ids = merged_labelstrings['input_ids'].view(1, -1, label_len).expand(batch_size, -1, -1).contiguous().view(-1, label_len)\n",
    "    input_ids = torch.cat([expanded_label_input_ids, expanded_batch_input_ids], dim=1)\n",
    "\n",
    "    expanded_batch_attention_mask = batch['attention_mask'].repeat_interleave(merged_labelstrings['attention_mask'].size(0), dim=0) # output size = (#labels*batch_size, L)\n",
    "    expanded_label_attention_mask = merged_labelstrings['attention_mask'].view(1, -1, label_len).expand(batch_size, -1, -1).contiguous().view(-1, label_len)\n",
    "    attention_mask = torch.cat([expanded_label_attention_mask, expanded_batch_attention_mask], dim=1)\n",
    "     \n",
    "    # labels = batch['labels']\n",
    "    batch['input_ids'] = input_ids\n",
    "    batch['attention_mask'] = attention_mask\n",
    "    bsz = input_ids.size(0)\n",
    "    batch.pop(\"labels\", None)\n",
    "    batch.pop('idx', None)\n",
    "\n",
    "    return batch, None"
   ]
  },
  {
   "cell_type": "code",
   "execution_count": null,
   "metadata": {},
   "outputs": [],
   "source": [
    "def merge_batches(batches, label_masks):\n",
    "    maxlen = max([batch['input_ids'].size(-1) for batch in batches])\n",
    "    batchsize = batches[0]['input_ids'].size(0)\n",
    "    # print(batchsize, maxlen)\n",
    "    padmax = torch.empty(batchsize, maxlen).long().data.fill_(tokenizer.pad_token_id).to(device)\n",
    "    maskmax = torch.ones_like(padmax).int().to(device)\n",
    "    # print(padmax)\n",
    "    # print(maskmax)\n",
    "    for ij in range(len(batches)):\n",
    "        extralen = maxlen - batches[ij]['input_ids'].size(-1)\n",
    "        # batches[ij] = tokenizer.pad(batches[ij], max_length=maxlen, return_attention_mask=True, return_tensors=\"pt\")\n",
    "        batches[ij]['input_ids'] = torch.cat([batches[ij]['input_ids'], padmax[:, :extralen]], dim=-1)\n",
    "        batches[ij]['attention_mask'] = torch.cat([batches[ij]['attention_mask'], 1-maskmax[:, :extralen]], dim=-1)\n",
    "        label_masks[ij] = torch.cat([label_masks[ij], maskmax[:, :extralen]], dim=-1)\n",
    "        \n",
    "    batch = {'input_ids': torch.cat([batch['input_ids'] for batch in batches], dim=0), 'attention_mask': torch.cat([batch['attention_mask'] for batch in batches], dim=0)}\n",
    "    label_mask = torch.cat(label_masks, dim=0)\n",
    "    # print(batch['input_ids'].size())\n",
    "    # print(batch['attention_mask'].size())\n",
    "    # print(label_mask.size())\n",
    "    # input()\n",
    "\n",
    "    return batch, label_mask"
   ]
  },
  {
   "cell_type": "code",
   "execution_count": null,
   "metadata": {},
   "outputs": [],
   "source": [
    "from torch.utils.data import DataLoader\n",
    "\n",
    "data_collator = DataCollatorWithPadding(tokenizer=tokenizer, padding=\"longest\")\n",
    "data_collator.tokenizer.pad_token_id = tokenizer.eos_token_id\n",
    "eval_dataloader = DataLoader(tokenized_dataset, collate_fn=data_collator, batch_size=4)\n",
    "\n",
    "# print(tokenized_dataset['validation'])\n",
    "# batch = next(iter(eval_dataloader))\n",
    "# batch"
   ]
  },
  {
   "cell_type": "code",
   "execution_count": null,
   "metadata": {},
   "outputs": [
    {
     "name": "stderr",
     "output_type": "stream",
     "text": [
      "  0%|          | 0/9500 [00:00<?, ?it/s]You're using a GPT2TokenizerFast tokenizer. Please note that with a fast tokenizer, using the `__call__` method is faster than using a method to encode the text followed by a call to the `pad` method to get a padded encoding.\n",
      "100%|██████████| 9500/9500 [49:36<00:00,  3.19it/s]\n"
     ]
    }
   ],
   "source": [
    "from tqdm import tqdm\n",
    "import numpy as np\n",
    "accurate = 0\n",
    "total = 0\n",
    "all_predictions = []\n",
    "all_labels = []\n",
    "############################################\n",
    "with torch.no_grad():\n",
    "    for batch in tqdm(eval_dataloader):\n",
    "    # if True:\n",
    "        nlls = []\n",
    "        subbatches = []\n",
    "        label_masks = []\n",
    "        for i in range(len(alllabelstrings_tokenized)):\n",
    "            for j in range(len(alllabelstrings_tokenized[i])):\n",
    "                sub_batch, label_mask = process_batch(batch, alllabelstrings_tokenized, i, j)\n",
    "                subbatches.append(sub_batch)\n",
    "                label_masks.append(label_mask)\n",
    "\n",
    "        new_batch, label_mask = merge_batches(subbatches, label_masks)\n",
    "        outputs = model(**new_batch)\n",
    "        logits1 = outputs.logits\n",
    "        \n",
    "        shift_logprobs = torch.nn.functional.log_softmax(logits1[..., :-1, :], dim=-1).contiguous()\n",
    "        shift_target = new_batch['input_ids'][..., 1:].contiguous()\n",
    "\n",
    "        nll = torch.nn.functional.nll_loss(shift_logprobs.view(-1, shift_logprobs.size(-1)), shift_target.view(-1), reduction=\"none\", ignore_index=tokenizer.pad_token_id).view(-1, shift_target.size(-1))\n",
    "        nll = nll * label_mask[..., 1:]\n",
    "\n",
    "        deno = (shift_target.ne(tokenizer.pad_token_id).float() * label_mask[..., 1:]).sum(dim=-1)\n",
    "\n",
    "        nll = nll.sum(dim=-1)/deno\n",
    "        nll = nll.view(num_labels, num_labelstrings, -1)\n",
    "\n",
    "        nll = -torch.logsumexp(-nll, dim=1) + np.log(num_labelstrings)\n",
    "        nll = nll.min(dim=0)\n",
    "\n",
    "        accurate += nll[1].eq(batch['labels'].cuda()).int().sum().item()\n",
    "        total += nll[1].size(0)\n",
    "        all_predictions += nll[1].tolist()\n",
    "        all_labels += batch['labels'].tolist()\n",
    "        # print(all_predictions)\n",
    "        # print(all_labels)\n",
    "        # print(accurate, \"/\", nll[1].size(0))\n",
    "\n",
    "        del new_batch\n",
    "        del subbatches\n",
    "        del label_masks\n"
   ]
  },
  {
   "cell_type": "code",
   "execution_count": null,
   "metadata": {},
   "outputs": [
    {
     "name": "stdout",
     "output_type": "stream",
     "text": [
      "Accuracy: 32977/38000 or 0.8678157894736842\n"
     ]
    }
   ],
   "source": [
    "print(f\"Accuracy: {accurate}/{total} or {accurate/total}\")"
   ]
  },
  {
   "cell_type": "code",
   "execution_count": null,
   "metadata": {},
   "outputs": [],
   "source": [
    "# SST-2: 747/872, 0.856651376146789\n",
    "# SST-2: 756/872, 0.8669724770642202\n",
    "# Yelp Polarity: 31487/38000, 0.8286052631578947\n",
    "# Accuracy: 32977/38000 or 0.8678157894736842\n",
    "# # alllabelstrings = [\n",
    "# #     [  \n",
    "# #         \"This review exhibits a negative bias.\",\n",
    "# #         \"The inclination of this review is towards the negative side.\",\n",
    "# #         \"There is a unfavorable slant in this review.\",\n",
    "# #         \"The overall tone of this review is negative.\",\n",
    "# #         \"This review shows a leaning against the subject.\",\n",
    "# #         \"There is a negative inclination in this review.\",\n",
    "# #         \"The overall impression of this review is pessimistic.\",\n",
    "# #         \"This review tends to disfavor the subject being discussed.\",\n",
    "# #         \"There is a negative inclination evident in this review.\",\n",
    "# #         \"The general sentiment of this review is negative.\",\n",
    "# #     ],\n",
    "# #     [\n",
    "# #         \"This review exhibits a positive bias.\",\n",
    "# #         \"The inclination of this review is towards the positive side.\",\n",
    "# #         \"There is a favorable slant in this review.\",\n",
    "# #         \"The overall tone of this review is positive.\",\n",
    "# #         \"This review shows a leaning in favor of the subject.\",\n",
    "# #         \"There is a positive inclination in this review.\",\n",
    "# #         \"The overall impression of this review is optimistic.\",\n",
    "# #         \"This review tends to favor the subject being discussed.\",\n",
    "# #         \"There is a positive inclination evident in this review.\",\n",
    "# #         \"The general sentiment of this review is positive.\",\n",
    "# #     ]\n",
    "# # ]\n",
    "\n",
    "# # alllabelstrings = [[\"This review is leaning negative. \"], [\"This review is leaning positive. \"]]\n",
    "# # alllabelstrings = [[\"This review criticizes. \"], [\"This review appreciates. \"]]\n",
    "\n",
    "# alllabelstrings = [\n",
    "#     [  \n",
    "#         \"This review exhibits a negative intent.\",\n",
    "#         #\"The inclination of this review is towards the negative side.\",\n",
    "#         #\"There is a unfavorable slant in this review.\",\n",
    "#         # \"The overall tone of this review is negative.\",\n",
    "#         # \"This review shows a leaning against the subject.\",\n",
    "#         \"There is a negative inclination in this review.\",\n",
    "#         # \"The overall impression of this review is pessimistic.\",\n",
    "#         # \"This review tends to disfavor the subject being discussed.\",\n",
    "#         # \"There is a negative inclination evident in this review.\",\n",
    "#         # \"The general sentiment of this review is negative.\",\n",
    "#     ],\n",
    "#     [\n",
    "#         \"This review exhibits a positive intent.\",\n",
    "#         #\"The inclination of this review is towards the positive side.\",\n",
    "#         #\"There is a favorable slant in this review.\",\n",
    "#         # \"The overall tone of this review is positive.\",\n",
    "#         # \"This review shows a leaning in favor of the subject.\",\n",
    "#         \"There is a positive inclination in this review.\",\n",
    "#         # \"The overall impression of this review is optimistic.\",\n",
    "#         # \"This review tends to favor the subject being discussed.\",\n",
    "#         # \"There is a positive inclination evident in this review.\",\n",
    "#         # \"The general sentiment of this review is positive.\",\n",
    "#     ]\n",
    "# ]\n",
    "\n",
    "# num_labels = len(alllabelstrings)\n",
    "# num_labelstrings = [len(labelstrings) for labelstrings in alllabelstrings]\n",
    "\n",
    "# merged_labelstrings = []\n",
    "# for labelstrings in alllabelstrings:\n",
    "#     merged_labelstrings += labelstrings\n",
    "\n",
    "# tokenizer.padding_side = \"left\"\n",
    "# merged_labelstrings_tokenized = tokenizer(merged_labelstrings, add_special_tokens=False, padding=True, return_tensors=\"pt\").to(device)\n",
    "# tokenizer.padding_side = \"right\"\n",
    "\n",
    "# print(len(merged_labelstrings))\n",
    "# print(merged_labelstrings_tokenized['input_ids'].size())\n",
    "# for key in merged_labelstrings_tokenized:\n",
    "#     merged_labelstrings_tokenized[key] = merged_labelstrings_tokenized[key].view(num_labels, num_labelstrings[0], -1)\n",
    "\n",
    "# tokenizer.pad_token = tokenizer.eos_token    \n",
    "# tokenizer.pad_token_id = tokenizer.eos_token_id\n"
   ]
  },
  {
   "cell_type": "code",
   "execution_count": null,
   "metadata": {},
   "outputs": [],
   "source": [
    "from seaborn import "
   ]
  }
 ],
 "metadata": {
  "kernelspec": {
   "display_name": "2022",
   "language": "python",
   "name": "python3"
  },
  "language_info": {
   "codemirror_mode": {
    "name": "ipython",
    "version": 3
   },
   "file_extension": ".py",
   "mimetype": "text/x-python",
   "name": "python",
   "nbconvert_exporter": "python",
   "pygments_lexer": "ipython3",
   "version": "3.9.7"
  },
  "orig_nbformat": 4
 },
 "nbformat": 4,
 "nbformat_minor": 2
}
